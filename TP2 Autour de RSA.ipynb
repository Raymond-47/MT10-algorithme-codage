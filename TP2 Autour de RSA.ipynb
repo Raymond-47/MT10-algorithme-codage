{
 "cells": [
  {
   "cell_type": "markdown",
   "id": "judicial-package",
   "metadata": {},
   "source": [
    "# Prélimitaire: SageMath et les nombres entiers"
   ]
  },
  {
   "cell_type": "markdown",
   "id": "assumed-input",
   "metadata": {},
   "source": [
    "### la division euclidienne"
   ]
  },
  {
   "cell_type": "code",
   "execution_count": 1,
   "id": "diagnostic-exhibit",
   "metadata": {},
   "outputs": [
    {
     "data": {
      "text/plain": [
       "(11, 9)"
      ]
     },
     "execution_count": 1,
     "metadata": {},
     "output_type": "execute_result"
    }
   ],
   "source": [
    "divmod(130, 11)"
   ]
  },
  {
   "cell_type": "markdown",
   "id": "automotive-evening",
   "metadata": {},
   "source": [
    "$(diviseur, reste)=divmod(a, b)$"
   ]
  },
  {
   "cell_type": "markdown",
   "id": "approximate-commission",
   "metadata": {},
   "source": [
    "### l'algorithme d'Euclide"
   ]
  },
  {
   "cell_type": "code",
   "execution_count": 2,
   "id": "baking-firewall",
   "metadata": {},
   "outputs": [
    {
     "data": {
      "text/plain": [
       "11"
      ]
     },
     "execution_count": 2,
     "metadata": {},
     "output_type": "execute_result"
    }
   ],
   "source": [
    "gcd(143, 55)"
   ]
  },
  {
   "cell_type": "markdown",
   "id": "working-divide",
   "metadata": {},
   "source": [
    "$pgcd = gcd(a, b)$"
   ]
  },
  {
   "cell_type": "markdown",
   "id": "silver-destiny",
   "metadata": {},
   "source": [
    "### l'algorithle d'Euclide étendu"
   ]
  },
  {
   "cell_type": "code",
   "execution_count": 3,
   "id": "generic-trinity",
   "metadata": {},
   "outputs": [
    {
     "data": {
      "text/plain": [
       "(11, 2, -5)"
      ]
     },
     "execution_count": 3,
     "metadata": {},
     "output_type": "execute_result"
    }
   ],
   "source": [
    "xgcd(143, 55)"
   ]
  },
  {
   "cell_type": "markdown",
   "id": "clear-queen",
   "metadata": {},
   "source": [
    "`(pgcd, p, q) = xgcd(a, b)`"
   ]
  },
  {
   "cell_type": "markdown",
   "id": "democratic-crest",
   "metadata": {},
   "source": [
    "$p * a + q * b = pgcd$"
   ]
  },
  {
   "cell_type": "markdown",
   "id": "interpreted-impact",
   "metadata": {},
   "source": [
    "### Les nombres premiers"
   ]
  },
  {
   "cell_type": "code",
   "execution_count": 4,
   "id": "handled-actor",
   "metadata": {},
   "outputs": [
    {
     "data": {
      "text/plain": [
       "True"
      ]
     },
     "execution_count": 4,
     "metadata": {},
     "output_type": "execute_result"
    }
   ],
   "source": [
    "is_prime(11)"
   ]
  },
  {
   "cell_type": "code",
   "execution_count": 5,
   "id": "neutral-syndicate",
   "metadata": {},
   "outputs": [
    {
     "data": {
      "text/plain": [
       "[3, 5, 7]"
      ]
     },
     "execution_count": 5,
     "metadata": {},
     "output_type": "execute_result"
    }
   ],
   "source": [
    "prime_range(3, 11)"
   ]
  },
  {
   "cell_type": "markdown",
   "id": "saved-brisbane",
   "metadata": {},
   "source": [
    "`liste_prime = prime_range(a, b)`"
   ]
  },
  {
   "cell_type": "code",
   "execution_count": 6,
   "id": "optional-player",
   "metadata": {},
   "outputs": [
    {
     "data": {
      "text/plain": [
       "11"
      ]
     },
     "execution_count": 6,
     "metadata": {},
     "output_type": "execute_result"
    }
   ],
   "source": [
    "next_prime(7)"
   ]
  },
  {
   "cell_type": "markdown",
   "id": "official-birth",
   "metadata": {},
   "source": [
    "### factorisation"
   ]
  },
  {
   "cell_type": "code",
   "execution_count": 7,
   "id": "exotic-label",
   "metadata": {},
   "outputs": [
    {
     "data": {
      "text/plain": [
       "2^2 * 7 * 11"
      ]
     },
     "execution_count": 7,
     "metadata": {},
     "output_type": "execute_result"
    }
   ],
   "source": [
    "factor(308)"
   ]
  },
  {
   "cell_type": "markdown",
   "id": "ancient-diabetes",
   "metadata": {},
   "source": [
    "`n = len(factor(x))` nombre de facteur différence"
   ]
  },
  {
   "cell_type": "markdown",
   "id": "coastal-gospel",
   "metadata": {},
   "source": [
    "`(a, e) = factor(x)[i]`\n",
    "\n",
    "avec `a` la base et `e` l'exposant \n",
    "\n",
    "$x = a_{1}^{e_{1}} + a_{2}^{e_{2}} + ... + a_{n}^{e_{n}}$"
   ]
  },
  {
   "cell_type": "markdown",
   "id": "careful-trace",
   "metadata": {},
   "source": [
    "### compter les nombres premiers"
   ]
  },
  {
   "cell_type": "code",
   "execution_count": 8,
   "id": "suitable-retrieval",
   "metadata": {},
   "outputs": [
    {
     "data": {
      "text/plain": [
       "8"
      ]
     },
     "execution_count": 8,
     "metadata": {},
     "output_type": "execute_result"
    }
   ],
   "source": [
    "prime_pi(20)"
   ]
  },
  {
   "cell_type": "markdown",
   "id": "brilliant-majority",
   "metadata": {},
   "source": [
    "`n = prime_pi(a)` \n",
    "\n",
    "`n` est le nombre des premiers inférieur à `a`"
   ]
  },
  {
   "cell_type": "markdown",
   "id": "serial-listing",
   "metadata": {},
   "source": [
    "# Nombres Premiers"
   ]
  },
  {
   "cell_type": "markdown",
   "id": "bigger-psychology",
   "metadata": {},
   "source": [
    "## Sur la répartition des nombres premiers"
   ]
  },
  {
   "cell_type": "markdown",
   "id": "acknowledged-reader",
   "metadata": {},
   "source": [
    "$u(n)=\\pi(n)\\frac{\\ln{n}}{n}$"
   ]
  },
  {
   "cell_type": "markdown",
   "id": "dynamic-argument",
   "metadata": {},
   "source": [
    "1. Evaluer les limites de la commande `prime_pi`.  "
   ]
  },
  {
   "cell_type": "code",
   "execution_count": 9,
   "id": "dressed-groove",
   "metadata": {},
   "outputs": [],
   "source": [
    "import datetime as dt"
   ]
  },
  {
   "cell_type": "code",
   "execution_count": 10,
   "id": "electoral-crisis",
   "metadata": {},
   "outputs": [
    {
     "name": "stdout",
     "output_type": "stream",
     "text": [
      "Il y 24739954287740860 nombres premiers au niveau de 10E18.\n"
     ]
    }
   ],
   "source": [
    "niveau_exp = 1\n",
    "while True:\n",
    "    start_time = dt.datetime.now()\n",
    "    nb_prime = prime_pi(10 ** niveau_exp)\n",
    "    end_time = dt.datetime.now()\n",
    "    if (end_time - start_time).seconds >=60:\n",
    "        print(\"Il y {} nombres premiers au niveau de 10E{}.\".format(nb_prime,niveau_exp))\n",
    "        break\n",
    "    else:\n",
    "        niveau_exp = niveau_exp + 1"
   ]
  },
  {
   "cell_type": "markdown",
   "id": "owned-purse",
   "metadata": {},
   "source": [
    "2. Tracer sur un même graphe $n \\mapsto \\pi(n)$ et $n \\mapsto \\frac{n}{\\ln{n}}$"
   ]
  },
  {
   "cell_type": "code",
   "execution_count": 11,
   "id": "imperial-consultancy",
   "metadata": {},
   "outputs": [],
   "source": [
    "import numpy as np\n",
    "import matplotlib.pyplot as plt"
   ]
  },
  {
   "cell_type": "code",
   "execution_count": 12,
   "id": "better-ambassador",
   "metadata": {},
   "outputs": [],
   "source": [
    "n_graphe = np.arange(0,1E8,1E3)\n",
    "pi_n = np.array([prime_pi(int(n)) for n in n_graphe])\n",
    "n_ln_n = n_graphe/np.log(n_graphe)"
   ]
  },
  {
   "cell_type": "code",
   "execution_count": 13,
   "id": "confidential-nerve",
   "metadata": {},
   "outputs": [
    {
     "data": {
      "image/png": "[encoded data removed]",
      "text/plain": [
       "<Figure size 640x480 with 1 Axes>"
      ]
     },
     "metadata": {},
     "output_type": "display_data"
    }
   ],
   "source": [
    "fig_prime_pi, ax_prime_pi = plt.subplots()\n",
    "ax_prime_pi.plot(n_graphe, pi_n, \"b\", label = \"π(n)\")\n",
    "ax_prime_pi.plot(n_graphe, n_ln_n, \"g\", label = \"n/ln(n)\")\n",
    "legend_prime_pi = ax_prime_pi.legend(loc='upper left', shadow=True, fontsize='x-large')\n",
    "plt.show()"
   ]
  },
  {
   "cell_type": "markdown",
   "id": "drawn-malawi",
   "metadata": {},
   "source": [
    "3. Tracer sur un graphe $u_{n}$ en fonction de n."
   ]
  },
  {
   "cell_type": "code",
   "execution_count": 14,
   "id": "small-accommodation",
   "metadata": {},
   "outputs": [],
   "source": [
    "u_n = pi_n / n_ln_n"
   ]
  },
  {
   "cell_type": "code",
   "execution_count": 15,
   "id": "trained-approval",
   "metadata": {},
   "outputs": [
    {
     "data": {
      "image/png": "[encoded data removed]",
      "text/plain": [
       "<Figure size 640x480 with 1 Axes>"
      ]
     },
     "metadata": {},
     "output_type": "display_data"
    }
   ],
   "source": [
    "fig_u_n, ax_u_n = plt.subplots()\n",
    "ax_u_n.plot(n_graphe, u_n, label = \"u(n)\")\n",
    "legend_u_n = ax_u_n.legend(loc='upper right', shadow=True, fontsize='x-large')\n",
    "plt.show()"
   ]
  },
  {
   "cell_type": "markdown",
   "id": "infectious-point",
   "metadata": {},
   "source": [
    "$\\lim_{x \\to \\infty} \\pi(n) \\frac{\\ln{n}}{n} = 1$"
   ]
  },
  {
   "cell_type": "markdown",
   "id": "packed-creature",
   "metadata": {},
   "source": [
    "4. Comparer aussi $\\pi(n)$ à la fonction d'écart logarithmique intégrale $Li(n) = \\int_{2}^{n} \\frac{dt}{\\ln(t)}$"
   ]
  },
  {
   "cell_type": "code",
   "execution_count": 16,
   "id": "renewable-patient",
   "metadata": {},
   "outputs": [],
   "source": [
    "t = SR.var('t')\n",
    "li = integral(1/ln(t), (t,2,3))\n",
    "li_n = np.array([numerical_integral(1/ln(t),2,int(n))[0] for n in n_graphe])"
   ]
  },
  {
   "cell_type": "code",
   "execution_count": 17,
   "id": "manual-example",
   "metadata": {},
   "outputs": [
    {
     "data": {
      "image/png": "[encoded data removed]",
      "text/plain": [
       "<Figure size 640x480 with 1 Axes>"
      ]
     },
     "metadata": {},
     "output_type": "display_data"
    }
   ],
   "source": [
    "fig_li_n, ax_li_n = plt.subplots()\n",
    "ax_li_n.plot(n_graphe, pi_n, label = \"π(n)\")\n",
    "ax_li_n.plot(n_graphe, li_n, label = \"Li(n)\")\n",
    "legend_li_n = ax_li_n.legend(loc='upper right', shadow=True, fontsize='x-large')\n",
    "plt.show()"
   ]
  },
  {
   "cell_type": "markdown",
   "id": "mature-resource",
   "metadata": {},
   "source": [
    "$\\pi(n) \\simeq Li(n)$"
   ]
  },
  {
   "cell_type": "markdown",
   "id": "suffering-independence",
   "metadata": {},
   "source": [
    "## Nombres de Fermat"
   ]
  },
  {
   "cell_type": "markdown",
   "id": "therapeutic-ranch",
   "metadata": {},
   "source": [
    "$F_n = 2^{2^{n}} + 1$"
   ]
  },
  {
   "cell_type": "code",
   "execution_count": 18,
   "id": "needed-hazard",
   "metadata": {},
   "outputs": [
    {
     "name": "stdout",
     "output_type": "stream",
     "text": [
      "le nombre 4294967297 quand n est équal à 5 n'est pas prémier.\n"
     ]
    }
   ],
   "source": [
    "ind_n_fremat = 0\n",
    "while True:\n",
    "    if is_prime(2 ** (2 ** ind_n_fremat) + 1):\n",
    "        ind_n_fremat = ind_n_fremat + 1\n",
    "        continue\n",
    "    else:\n",
    "        print(\"le nombre {} quand n est équal à {} n'est pas prémier.\".format(2 ** (2 ** ind_n_fremat) + 1, ind_n_fremat))\n",
    "        break"
   ]
  },
  {
   "cell_type": "markdown",
   "id": "fifteen-ribbon",
   "metadata": {},
   "source": [
    "## Nombres de Mersenne"
   ]
  },
  {
   "cell_type": "markdown",
   "id": "received-monkey",
   "metadata": {},
   "source": [
    "Montrer que les nombres de la forme $M_p = 2^p - 1$, ne peuvent être premiers qui si $p$ est lui-même premier."
   ]
  },
  {
   "cell_type": "markdown",
   "id": "organic-fruit",
   "metadata": {},
   "source": [
    "1. Former la liste des nombres premiers inférieurs ou égaux à 257."
   ]
  },
  {
   "cell_type": "code",
   "execution_count": 19,
   "id": "manufactured-landing",
   "metadata": {
    "tags": []
   },
   "outputs": [],
   "source": [
    "prime_le_257 = prime_range(257.5)"
   ]
  },
  {
   "cell_type": "code",
   "execution_count": 20,
   "id": "noted-integral",
   "metadata": {},
   "outputs": [
    {
     "data": {
      "text/plain": [
       "55"
      ]
     },
     "execution_count": 20,
     "metadata": {},
     "output_type": "execute_result"
    }
   ],
   "source": [
    "prime_pi(257)"
   ]
  },
  {
   "cell_type": "code",
   "execution_count": 21,
   "id": "interior-horizon",
   "metadata": {},
   "outputs": [],
   "source": [
    "mersenne_p = [2 ** n - 1 for n in prime_le_257]"
   ]
  },
  {
   "cell_type": "markdown",
   "id": "according-connection",
   "metadata": {},
   "source": [
    "**Démonstration :** $M_p = 2^p - 1$ est premier que si p est premier.\n",
    "\n",
    "Si p n'est pas premier, on a $p = k * l$.\n",
    "\n",
    "$2^{p} - 1 = (2^{k * l} - 1) = (2^{k} - 1) * (2^{k(l - 1)} + 2^{k(l - 2)} + ... + 2^{0})$\n",
    "\n",
    "Donc, on a $M_p \\notin \\mathbb{P}$ est toujours composé."
   ]
  },
  {
   "cell_type": "markdown",
   "id": "patent-campaign",
   "metadata": {},
   "source": [
    "2. Donner les nombres de Mersenne qui sont des nombres premiers."
   ]
  },
  {
   "cell_type": "code",
   "execution_count": 22,
   "id": "unsigned-portsmouth",
   "metadata": {},
   "outputs": [
    {
     "data": {
      "text/plain": [
       "[2, 3, 5, 7, 13, 17, 19, 31, 61, 89, 107, 127]"
      ]
     },
     "execution_count": 22,
     "metadata": {},
     "output_type": "execute_result"
    }
   ],
   "source": [
    "[prime_le_257[ind] for ind,bool in enumerate([is_prime(nombre_mersenne) for nombre_mersenne in mersenne_p]) if bool == True]"
   ]
  },
  {
   "cell_type": "markdown",
   "id": "defined-secondary",
   "metadata": {},
   "source": [
    "3. Décomposer $M_{41}$ et $M_{47}$ en facteurs premiers"
   ]
  },
  {
   "cell_type": "code",
   "execution_count": 23,
   "id": "vital-airport",
   "metadata": {},
   "outputs": [
    {
     "data": {
      "text/plain": [
       "13367 * 164511353"
      ]
     },
     "execution_count": 23,
     "metadata": {},
     "output_type": "execute_result"
    }
   ],
   "source": [
    "factor(2 ** 41 - 1)"
   ]
  },
  {
   "cell_type": "code",
   "execution_count": 24,
   "id": "genetic-exhibit",
   "metadata": {},
   "outputs": [
    {
     "data": {
      "text/plain": [
       "2351 * 4513 * 13264529"
      ]
     },
     "execution_count": 24,
     "metadata": {},
     "output_type": "execute_result"
    }
   ],
   "source": [
    "factor(2 ** 47 - 1)"
   ]
  },
  {
   "cell_type": "markdown",
   "id": "failing-strand",
   "metadata": {},
   "source": [
    "4. Vérifier que $n = 2^{p-1}M_p$ est parfait."
   ]
  },
  {
   "cell_type": "code",
   "execution_count": 25,
   "id": "lucky-senior",
   "metadata": {},
   "outputs": [],
   "source": [
    "def est_parfait(nombre):\n",
    "    return sum(divisors(nombre)) == nombre * 2"
   ]
  },
  {
   "cell_type": "code",
   "execution_count": 26,
   "id": "bored-douglas",
   "metadata": {},
   "outputs": [
    {
     "data": {
      "text/plain": [
       "[2, 3, 5, 7, 13, 17, 19, 31, 61, 89, 107, 127]"
      ]
     },
     "execution_count": 26,
     "metadata": {},
     "output_type": "execute_result"
    }
   ],
   "source": [
    "[prime_le_257[ind] for ind,bool in enumerate([est_parfait(2 ** (m_p - 1) * mersenne_p[i]) for i, m_p in enumerate(prime_le_257)]) if bool == True]"
   ]
  },
  {
   "cell_type": "markdown",
   "id": "theoretical-scott",
   "metadata": {},
   "source": [
    "## Un test de primalité pour les nombres de Mersenne"
   ]
  },
  {
   "cell_type": "markdown",
   "id": "unusual-anaheim",
   "metadata": {},
   "source": [
    "**Théorème de Lucas:** Si $M_p$ est un premier, on a $L_{p-1} \\% M_p = 0 \\; (\\forall p \\ge 2)$ "
   ]
  },
  {
   "cell_type": "code",
   "execution_count": 8,
   "id": "unusual-reminder",
   "metadata": {},
   "outputs": [
    {
     "name": "stdout",
     "output_type": "stream",
     "text": [
      "2E4253 - 1 est le plus grand premier trouvé dans 5 mins.\n"
     ]
    }
   ],
   "source": [
    "nb_prime = 2\n",
    "p_mp_prime = 2\n",
    "\n",
    "start_time = dt.datetime.now()\n",
    "\n",
    "while True:\n",
    "    if is_prime(2 ** nb_prime - 1):\n",
    "        p_mp_prime = nb_prime\n",
    "    nb_prime = next_prime(nb_prime)\n",
    "    \n",
    "    end_time = dt.datetime.now()\n",
    "    \n",
    "    if (end_time - start_time).seconds >= 5*60:\n",
    "        print(\"2E{} - 1 est le plus grand premier trouvé dans 5 mins.\".format(p_mp_prime))\n",
    "        break\n",
    "    else:\n",
    "        continue"
   ]
  },
  {
   "cell_type": "markdown",
   "id": "unnecessary-jason",
   "metadata": {},
   "source": [
    "Donc, l'algorithme de Lucas est plus rapide que `is_prime`"
   ]
  },
  {
   "cell_type": "markdown",
   "id": "transparent-helen",
   "metadata": {},
   "source": [
    "# Algorithme d'exponentiation"
   ]
  },
  {
   "cell_type": "markdown",
   "id": "pointed-equivalent",
   "metadata": {},
   "source": [
    "## Naïf itératif et naïf récursif"
   ]
  },
  {
   "cell_type": "code",
   "execution_count": 1,
   "id": "simple-broadway",
   "metadata": {},
   "outputs": [],
   "source": [
    "def exp_recursif(x, n):\n",
    "    if n == 0:\n",
    "        return 1\n",
    "    else:\n",
    "        return x * exp_recursif(x, n - 1)"
   ]
  },
  {
   "cell_type": "code",
   "execution_count": 2,
   "id": "worldwide-nightmare",
   "metadata": {},
   "outputs": [],
   "source": [
    "def exp_iteratif(x, n):\n",
    "    res = 1\n",
    "    for i in range(n):\n",
    "        res = res * x\n",
    "    return res"
   ]
  },
  {
   "cell_type": "markdown",
   "id": "hawaiian-eight",
   "metadata": {},
   "source": [
    "La complexité ci-dessus est $O(n)$"
   ]
  },
  {
   "cell_type": "markdown",
   "id": "mature-perry",
   "metadata": {},
   "source": [
    "## Dichotomique itératif et dichotomique récursif"
   ]
  },
  {
   "cell_type": "code",
   "execution_count": 3,
   "id": "certain-length",
   "metadata": {},
   "outputs": [],
   "source": [
    "def exp_dichotomique_recursif(x, n):\n",
    "    if n == 0:\n",
    "        return 1\n",
    "    elif n % 2 == 0:\n",
    "        return exp_dichotomique_recursif(x, n/2) ** 2\n",
    "    else:\n",
    "        return exp_dichotomique_recursif(x, (n - 1)/2) ** 2 * x"
   ]
  },
  {
   "cell_type": "code",
   "execution_count": 4,
   "id": "satisfactory-samuel",
   "metadata": {},
   "outputs": [],
   "source": [
    "def exp_dichotomique_iteratif(x, n):\n",
    "    res = 1\n",
    "    while n > 0:\n",
    "        if n % 2 == 1:\n",
    "            res = res * x\n",
    "        x = x ** 2\n",
    "        n = n // 2\n",
    "    return res"
   ]
  },
  {
   "cell_type": "markdown",
   "id": "forced-perspective",
   "metadata": {},
   "source": [
    "La complexité ci-dessus est $O(\\ln{n})$"
   ]
  },
  {
   "cell_type": "code",
   "execution_count": 5,
   "id": "front-interference",
   "metadata": {},
   "outputs": [
    {
     "data": {
      "text/plain": [
       "512"
      ]
     },
     "execution_count": 5,
     "metadata": {},
     "output_type": "execute_result"
    }
   ],
   "source": [
    "exp_dichotomique_recursif(2,9)"
   ]
  },
  {
   "cell_type": "markdown",
   "id": "lucky-advisory",
   "metadata": {},
   "source": [
    "## Algorithme d'exponentiation modulaire"
   ]
  },
  {
   "cell_type": "markdown",
   "id": "arbitrary-fighter",
   "metadata": {},
   "source": [
    "Pour calculer $x^n \\% N$"
   ]
  },
  {
   "cell_type": "code",
   "execution_count": 6,
   "id": "daily-addition",
   "metadata": {},
   "outputs": [],
   "source": [
    "def mod_exp_dichotomique_recursif(x, n, N):\n",
    "    if n == 0:\n",
    "        return 1\n",
    "    elif n % 2 == 0:\n",
    "        return mod_exp_dichotomique_recursif(x, n/2, N) ** 2 % N\n",
    "    else: \n",
    "        return mod_exp_dichotomique_recursif(x, (n - 1)/2, N) ** 2 * x % N"
   ]
  },
  {
   "cell_type": "code",
   "execution_count": 7,
   "id": "cultural-scene",
   "metadata": {},
   "outputs": [
    {
     "data": {
      "text/plain": [
       "True"
      ]
     },
     "execution_count": 7,
     "metadata": {},
     "output_type": "execute_result"
    }
   ],
   "source": [
    "16.powermod(120,10) == mod_exp_dichotomique_recursif(16,120,10)"
   ]
  },
  {
   "cell_type": "code",
   "execution_count": 8,
   "id": "boxed-velvet",
   "metadata": {},
   "outputs": [],
   "source": [
    "def mod_exp_dichotomique_iteratif(x, n, N):\n",
    "    res = 1\n",
    "    while n > 0:\n",
    "        if n % 2 == 1:\n",
    "            res = res * x % N\n",
    "        x = x ** 2 % n\n",
    "        n = n // 2\n",
    "    return res"
   ]
  },
  {
   "cell_type": "code",
   "execution_count": 9,
   "id": "demonstrated-fisher",
   "metadata": {},
   "outputs": [
    {
     "data": {
      "text/plain": [
       "True"
      ]
     },
     "execution_count": 9,
     "metadata": {},
     "output_type": "execute_result"
    }
   ],
   "source": [
    "16.powermod(120,10) == mod_exp_dichotomique_iteratif(16,120,10)"
   ]
  },
  {
   "cell_type": "markdown",
   "id": "julian-lloyd",
   "metadata": {},
   "source": [
    "La complexité ci-dessus est $O(\\ln{n})$"
   ]
  },
  {
   "cell_type": "markdown",
   "id": "miniature-missouri",
   "metadata": {},
   "source": [
    "# Cryptosystème RSA"
   ]
  },
  {
   "cell_type": "markdown",
   "id": "indirect-polymer",
   "metadata": {},
   "source": [
    "## Introduction"
   ]
  },
  {
   "cell_type": "markdown",
   "id": "western-papua",
   "metadata": {},
   "source": [
    "1. Choisir 2 nombres premiers $p$, $q$.\n",
    "2. $N = p * q$\n",
    "3. $\\phi(N) = (p - 1)(q * 1)$\n",
    "4. Trouver $e$, $pgcd(e, \\phi(n)) = 1$\n",
    "5. **Clé publique:** $(e, N)$\n",
    "6. **Clé privé:** $(d, N)$ avec $ed \\equiv 1 \\; (mod \\; \\phi(N))$\n",
    "7. Chiffrer: $y = x^e \\; mod \\; N$ (x est le mot de passe original, y est encrypté)\n",
    "8. Déchiffrer: $x = y^d \\; mod \\; N$"
   ]
  },
  {
   "cell_type": "markdown",
   "id": "sustained-ordering",
   "metadata": {},
   "source": [
    "## L'ensemble des messages, codage, décodage"
   ]
  },
  {
   "cell_type": "code",
   "execution_count": 10,
   "id": "organized-occurrence",
   "metadata": {},
   "outputs": [],
   "source": [
    "S1=AlphabeticStrings();\n",
    "S2=HexadecimalStrings();\n",
    "S3=BinaryStrings();"
   ]
  },
  {
   "cell_type": "code",
   "execution_count": 11,
   "id": "integral-thursday",
   "metadata": {},
   "outputs": [],
   "source": [
    "original=\"Que j'aime a faire connaitre un nombre utile aux sages\""
   ]
  },
  {
   "cell_type": "code",
   "execution_count": 12,
   "id": "junior-twenty",
   "metadata": {},
   "outputs": [],
   "source": [
    "original2=\"Que jaimeafaire connaitreunnombre utileauxsages\""
   ]
  },
  {
   "cell_type": "code",
   "execution_count": 13,
   "id": "functioning-amateur",
   "metadata": {},
   "outputs": [
    {
     "data": {
      "text/plain": [
       "'QUEJAIMEAFAIRECONNAITREUNNOMBREUTILEAUXSAGES'"
      ]
     },
     "execution_count": 13,
     "metadata": {},
     "output_type": "execute_result"
    }
   ],
   "source": [
    "S1.encoding(original).decoding()"
   ]
  },
  {
   "cell_type": "code",
   "execution_count": 14,
   "id": "recreational-church",
   "metadata": {},
   "outputs": [
    {
     "data": {
      "text/plain": [
       "True"
      ]
     },
     "execution_count": 14,
     "metadata": {},
     "output_type": "execute_result"
    }
   ],
   "source": [
    "S1.encoding(original) == S1.encoding(original2)"
   ]
  },
  {
   "cell_type": "markdown",
   "id": "analyzed-motion",
   "metadata": {},
   "source": [
    "Donc `S1` n'est pas injectif"
   ]
  },
  {
   "cell_type": "code",
   "execution_count": 15,
   "id": "suspected-distance",
   "metadata": {},
   "outputs": [
    {
     "data": {
      "text/plain": [
       "\"Que j'aime a faire connaitre un nombre utile aux sages\""
      ]
     },
     "execution_count": 15,
     "metadata": {},
     "output_type": "execute_result"
    }
   ],
   "source": [
    "S2.encoding(original).decoding()"
   ]
  },
  {
   "cell_type": "code",
   "execution_count": 16,
   "id": "editorial-contribution",
   "metadata": {},
   "outputs": [
    {
     "data": {
      "text/plain": [
       "\"Que j'aime a faire connaitre un nombre utile aux sages\""
      ]
     },
     "execution_count": 16,
     "metadata": {},
     "output_type": "execute_result"
    }
   ],
   "source": [
    "S3.encoding(original).decoding()"
   ]
  },
  {
   "cell_type": "markdown",
   "id": "precious-passenger",
   "metadata": {},
   "source": [
    "Pour calculer les bits d'un chiffre ≤ N besoin:\n",
    "\n",
    "Si $x$ est le nombre du bit,\n",
    "\n",
    "$2^{x + 1} - 2 \\ge N$\n",
    "\n",
    "$x \\ge \\log_{2}(N + 2) - 1$\n",
    "\n",
    "$x = \\lfloor \\log_{2}(N + 2) \\rfloor$"
   ]
  },
  {
   "cell_type": "code",
   "execution_count": 17,
   "id": "dental-great",
   "metadata": {},
   "outputs": [],
   "source": [
    "def numerise(message, N):\n",
    "    # rentrer une liste des chiffres ≤ N\n",
    "    lst_entier = []\n",
    "    msg_binaire = BinaryStrings().encoding(message)\n",
    "    nb_binaire = len(msg_binaire)\n",
    "    nb_bits = int(log(N + 2, 2))\n",
    "    nb_paquet = ceil(nb_binaire / nb_bits)\n",
    "    nb_zero_ajouter = nb_paquet * nb_bits - nb_binaire\n",
    "    msg_binaire = \"0\" * nb_zero_ajouter + str(msg_binaire)\n",
    "    for i in range(nb_paquet):\n",
    "        msg_binaire_morceau = msg_binaire[i * nb_bits: (i + 1) * nb_bits]\n",
    "        lst_entier.append(int(str(msg_binaire_morceau),2))\n",
    "    return lst_entier"
   ]
  },
  {
   "cell_type": "code",
   "execution_count": 18,
   "id": "advance-offering",
   "metadata": {},
   "outputs": [],
   "source": [
    "from sage.crypto.util import bin_to_ascii"
   ]
  },
  {
   "cell_type": "code",
   "execution_count": 19,
   "id": "perceived-liverpool",
   "metadata": {},
   "outputs": [],
   "source": [
    "def alphabetise(lst_entier, N):\n",
    "    msg = \"\"\n",
    "    nb_bits = int(log(N + 2, 2))\n",
    "    for ent in lst_entier:\n",
    "        msg = msg + format(ent, \"0{}b\".format(nb_bits))\n",
    "    while msg[0]==\"0\":\n",
    "        msg = msg[1:]\n",
    "    nb_zero_ajouter = (8 - (len(msg) % 8)) % 8\n",
    "    msg = \"0\" * nb_zero_ajouter + msg\n",
    "    msg_alpha = bin_to_ascii(msg)\n",
    "    return msg_alpha"
   ]
  },
  {
   "cell_type": "code",
   "execution_count": 20,
   "id": "consistent-height",
   "metadata": {},
   "outputs": [
    {
     "data": {
      "text/plain": [
       "[1, 17, 6, 8, 25, 19, 2, 13, 9, 20]"
      ]
     },
     "execution_count": 20,
     "metadata": {},
     "output_type": "execute_result"
    }
   ],
   "source": [
    "numerise(\"123154\",35)"
   ]
  },
  {
   "cell_type": "code",
   "execution_count": 21,
   "id": "vital-clearance",
   "metadata": {},
   "outputs": [
    {
     "data": {
      "text/plain": [
       "'123154'"
      ]
     },
     "execution_count": 21,
     "metadata": {},
     "output_type": "execute_result"
    }
   ],
   "source": [
    "alphabetise([1, 17, 6, 8, 25, 19, 2, 13, 9, 20], 35)"
   ]
  },
  {
   "cell_type": "code",
   "execution_count": 22,
   "id": "brave-title",
   "metadata": {},
   "outputs": [
    {
     "data": {
      "text/plain": [
       "[3, 1, 3, 2, 3, 3, 3, 1, 3, 5, 3, 4]"
      ]
     },
     "execution_count": 22,
     "metadata": {},
     "output_type": "execute_result"
    }
   ],
   "source": [
    "numerise(\"123154\",24)"
   ]
  },
  {
   "cell_type": "code",
   "execution_count": 23,
   "id": "brief-cincinnati",
   "metadata": {},
   "outputs": [
    {
     "data": {
      "text/plain": [
       "'123154'"
      ]
     },
     "execution_count": 23,
     "metadata": {},
     "output_type": "execute_result"
    }
   ],
   "source": [
    "alphabetise([3, 1, 3, 2, 3, 3, 3, 1, 3, 5, 3, 4], 24)"
   ]
  },
  {
   "cell_type": "markdown",
   "id": "multiple-damage",
   "metadata": {},
   "source": [
    "## La génération de clés RSA"
   ]
  },
  {
   "cell_type": "markdown",
   "id": "forty-avenue",
   "metadata": {},
   "source": [
    "1. Quelles sont les recommandations de la société RSA Data-Security?\n",
    "\n",
    "2. Pourquoi les nombres de Mersenne premiers doivent être évités? \n",
    "\n",
    "    Les nombres de Mersenne premiers sont des nombres premiers spécifiques qui sont de la forme $2^p - 1$, où p est également un nombre premier. Ils doivent être évités dans le contexte de la cryptographie RSA car ils présentent des propriétés mathématiques spécifiques qui pourraient potentiellement faciliter certaines attaques cryptanalytiques. De plus, les nombres de Mersenne premiers sont rares et en utilisant ces nombres, on réduit l'espace des clés possibles, rendant ainsi le système plus vulnérable.\n",
    "\n",
    "3. Pourquoi l'exposant de chiffrement $e$ ne doit pas être choisi trop petit?\n",
    "\n",
    "    L'exposant de chiffrement e est utilisé dans l'algorithme RSA pour calculer le texte chiffré à partir du texte en clair. Si e est choisi trop petit, cela peut conduire à des attaques efficaces qui compromettent la sécurité du système cryptographique. Par exemple, l'attaque de Wiener, qui exploite les faiblesses de RSA lorsque l'exposant de chiffrement est petit, permet à un attaquant de déterminer la clé privée à partir de la clé publique. Afin de garantir un niveau de sécurité suffisant, il est recommandé de choisir un exposant de chiffrement suffisamment grand, typiquement un nombre premier impair comme 65537 ($2^{16} + 1$) qui est couramment utilisé en raison de ses propriétés mathématiques."
   ]
  },
  {
   "cell_type": "code",
   "execution_count": 24,
   "id": "scientific-national",
   "metadata": {},
   "outputs": [],
   "source": [
    "import random\n",
    "import datetime as dt"
   ]
  },
  {
   "cell_type": "code",
   "execution_count": 25,
   "id": "musical-french",
   "metadata": {},
   "outputs": [],
   "source": [
    "def cleRSA(m):\n",
    "    p = random_prime(2^2048, false, 10^m)\n",
    "    q = random_prime(2^2048, false, 10^m)\n",
    "    N = p * q\n",
    "    phi_N = (p - 1) * (q - 1)\n",
    "    e = random.randint(2^16, N)\n",
    "    while gcd(e, phi_N) != 1:\n",
    "        e = random.randint(2^16, N)\n",
    "    d = mod(xgcd(e, phi_N)[1], phi_N)\n",
    "    return N, e, d"
   ]
  },
  {
   "cell_type": "code",
   "execution_count": 26,
   "id": "unlikely-monthly",
   "metadata": {},
   "outputs": [],
   "source": [
    "(RSA_N,RSA_e,RSA_d) = cleRSA(30)"
   ]
  },
  {
   "cell_type": "code",
   "execution_count": 4,
   "id": "guilty-audience",
   "metadata": {},
   "outputs": [],
   "source": [
    "time_start = dt.datetime.now()\n",
    "factor(RSA_N)\n",
    "(time_start - dt.datetime.now()).seconds"
   ]
  },
  {
   "cell_type": "markdown",
   "id": "formal-country",
   "metadata": {},
   "source": [
    "Ça prends trops longtemps."
   ]
  },
  {
   "cell_type": "markdown",
   "id": "environmental-processor",
   "metadata": {},
   "source": [
    "## Fonctions de chiffrement et déchiffrement RSA"
   ]
  },
  {
   "cell_type": "code",
   "execution_count": 27,
   "id": "transsexual-communication",
   "metadata": {},
   "outputs": [],
   "source": [
    "def chiffrerRSA(lst_msg, cle_prive):\n",
    "    (d, N) = cle_prive\n",
    "    return list(map(power_mod, lst_msg, [d] * len(lst_msg), [N] * len(lst_msg)))"
   ]
  },
  {
   "cell_type": "code",
   "execution_count": 28,
   "id": "strong-fourth",
   "metadata": {},
   "outputs": [],
   "source": [
    "def dechiffrerRSA(lst_msg, cle_publique):\n",
    "    return chiffrerRSA(lst_msg, cle_publique)"
   ]
  },
  {
   "cell_type": "code",
   "execution_count": 29,
   "id": "loving-dictionary",
   "metadata": {},
   "outputs": [],
   "source": [
    "msg_original = \"SageMath calcule exactement dans des entiers de taille arbitrairement grande. Outre + et *, on utilisera aussi la division euclidienne (divmod), l’algorithme d’Euclide (gcd) et l’algorithme d’Euclide étendu (xgcd).Le théorème fondamental de l’arithmétique affirme que tout nombre entier s’écrit comme produit de nombres premiers et qu’une telle écriture est unique à l’ordre des facteurs près. Les nombres premiers sont ainsi les notes de la musique des nombres. SageMath possède quelques commandes très utiles pour travailler avec les nombres premiers : is_prime, prime_range, next_prime, factor, prime_pi.\"\n",
    "lst_msg_original = numerise(msg_original,RSA_N)\n",
    "lst_msg_encrypte = chiffrerRSA(lst_msg_original, (RSA_e, RSA_N))"
   ]
  },
  {
   "cell_type": "code",
   "execution_count": 30,
   "id": "leading-liabilities",
   "metadata": {},
   "outputs": [
    {
     "data": {
      "text/plain": [
       "'SageMath calcule exactement dans des entiers de taille arbitrairement grande. Outre + et *, on utilisera aussi la division euclidienne (divmod), l\\x19algorithme d\\x19Euclide (gcd) et l\\x19algorithme d\\x19Euclide étendu (xgcd).Le théorème fondamental de l\\x19arithmétique affirme que tout nombre entier s\\x19écrit comme produit de nombres premiers et qu\\x19une telle écriture est unique à l\\x19ordre des facteurs près. Les nombres premiers sont ainsi les notes de la musique des nombres. SageMath possède quelques commandes très utiles pour travailler avec les nombres premiers : is_prime, prime_range, next_prime, factor, prime_pi.'"
      ]
     },
     "execution_count": 30,
     "metadata": {},
     "output_type": "execute_result"
    }
   ],
   "source": [
    "lst_msg_dechiffre = dechiffrerRSA(lst_msg_encrypte, (RSA_d, RSA_N))\n",
    "alphabetise(lst_msg_dechiffre, RSA_N)"
   ]
  },
  {
   "cell_type": "markdown",
   "id": "sized-arrest",
   "metadata": {},
   "source": [
    "## Signature avec RSA"
   ]
  },
  {
   "cell_type": "code",
   "execution_count": 31,
   "id": "brave-mechanics",
   "metadata": {},
   "outputs": [],
   "source": [
    "(RSA_NA, RSA_eA, RSA_dA) = cleRSA(100)\n",
    "(RSA_NB, RSA_eB, RSA_dB) = cleRSA(100)"
   ]
  },
  {
   "cell_type": "markdown",
   "id": "according-sampling",
   "metadata": {},
   "source": [
    "1. **Protocole 1:** message + signature"
   ]
  },
  {
   "cell_type": "code",
   "execution_count": 32,
   "id": "numerous-model",
   "metadata": {},
   "outputs": [],
   "source": [
    "def protocole1_chiffrer(m1, s1, RSA_NA, RSA_dA, RSA_NB, RSA_eB, NC):\n",
    "    m1c = numerise(m1, NC)\n",
    "    s1c = numerise(s1, NC)\n",
    "    \n",
    "    m2c = chiffrerRSA(m1c, (RSA_eB, RSA_NB))\n",
    "    s2c = chiffrerRSA(s1c, (RSA_dA, RSA_NA))\n",
    "    \n",
    "    return (m2c, s2c)"
   ]
  },
  {
   "cell_type": "code",
   "execution_count": 33,
   "id": "fiscal-proof",
   "metadata": {},
   "outputs": [],
   "source": [
    "def protocole1_dechiffrer(m2c, s2c, RSA_NA, RSA_eA, RSA_NB, RSA_dB, NC):\n",
    "    m1c = dechiffrerRSA(m2c, (RSA_dB, RSA_NB))\n",
    "    s1c = dechiffrerRSA(s2c, (RSA_eA, RSA_NA))\n",
    "    \n",
    "    m1 = alphabetise(m1c, NC)\n",
    "    s1 = alphabetise(s1c, NC)\n",
    "    \n",
    "    return (m1, s1)"
   ]
  },
  {
   "cell_type": "markdown",
   "id": "wireless-divorce",
   "metadata": {},
   "source": [
    "2. **Protocole 2:** message signé"
   ]
  },
  {
   "cell_type": "code",
   "execution_count": 34,
   "id": "attempted-controversy",
   "metadata": {},
   "outputs": [],
   "source": [
    "def protocole2_chiffrer(m1, RSA_NA, RSA_dA, RSA_NB, RSA_eB, NC):\n",
    "    \n",
    "    m1c = numerise(m1, NC)\n",
    "    \n",
    "    if RSA_NA >= RSA_NB:\n",
    "        m2c = chiffrerRSA(m1c, (RSA_eB, RSA_NB))\n",
    "        m3c = chiffrerRSA(m2c, (RSA_dA, RSA_NA))\n",
    "    else:\n",
    "        m2c = chiffrerRSA(m1c, (RSA_dA, RSA_NA))\n",
    "        m3c = chiffrerRSA(m2c, (RSA_eB, RSA_NB))\n",
    "        \n",
    "    return m3c"
   ]
  },
  {
   "cell_type": "code",
   "execution_count": 35,
   "id": "extreme-joshua",
   "metadata": {},
   "outputs": [],
   "source": [
    "def protocole2_dechiffrer(m3c, RSA_NA, RSA_eA, RSA_NB, RSA_dB, NC):\n",
    "    \n",
    "    if RSA_NA >= RSA_NB:\n",
    "        m2c = dechiffrerRSA(m3c, (RSA_eA, RSA_NA))\n",
    "        m1c = dechiffrerRSA(m2c, (RSA_dB, RSA_NB))\n",
    "    else:\n",
    "        m2c = dechiffrerRSA(m3c, (RSA_dB, RSA_NB))\n",
    "        m1c = dechiffrerRSA(m2c, (RSA_eA, RSA_NA))\n",
    "    \n",
    "    m1 = alphabetise(m1c, NC)\n",
    "    \n",
    "    return m1"
   ]
  },
  {
   "cell_type": "markdown",
   "id": "supposed-ballot",
   "metadata": {},
   "source": [
    "Si $N_A = N_B$, on peut arriver à decoder n'importe quel ordre."
   ]
  },
  {
   "cell_type": "markdown",
   "id": "seeing-eight",
   "metadata": {},
   "source": [
    "# Factorisation de clefs RSA"
   ]
  },
  {
   "cell_type": "markdown",
   "id": "expected-titanium",
   "metadata": {},
   "source": [
    "Algorithme naïf"
   ]
  },
  {
   "cell_type": "code",
   "execution_count": 36,
   "id": "average-boring",
   "metadata": {},
   "outputs": [],
   "source": [
    "def factor_fermat(N):\n",
    "    l0 = 1\n",
    "    u = 0\n",
    "    n = l0 + u\n",
    "    L = l0\n",
    "    R0 = ceil(sqrt(L * N))\n",
    "    R = R0 + u\n",
    "    S = sqrt(R ** 2 - L * N)\n",
    "    while floor(S) != S:\n",
    "        for L in range(l0, n):\n",
    "            u = n - L\n",
    "            R0 = ceil(sqrt(L * N))\n",
    "            R = R0 + u\n",
    "            S =sqrt(R ** 2 - L * N)\n",
    "        n = n + 1\n",
    "        L0 = L\n",
    "    print(L - 1, gcd(N, R - S), gcd(N, R + S))"
   ]
  },
  {
   "cell_type": "markdown",
   "id": "cellular-distinction",
   "metadata": {},
   "source": [
    "# Tests de primalité probabilistes"
   ]
  },
  {
   "cell_type": "markdown",
   "id": "spectacular-glass",
   "metadata": {},
   "source": [
    "1. Test de Fermat"
   ]
  },
  {
   "cell_type": "code",
   "execution_count": 37,
   "id": "restricted-inflation",
   "metadata": {},
   "outputs": [],
   "source": [
    "def teste_fermat(n, a):\n",
    "    if (a ** (n - 1) % n) == 1:\n",
    "        return True\n",
    "    else:\n",
    "        return False"
   ]
  },
  {
   "cell_type": "code",
   "execution_count": 38,
   "id": "explicit-bahrain",
   "metadata": {},
   "outputs": [
    {
     "name": "stdout",
     "output_type": "stream",
     "text": [
      "Le plus petit composé qui passe le test de Fermat est 1729.\n"
     ]
    }
   ],
   "source": [
    "nb_teste = 2\n",
    "while True:\n",
    "    \n",
    "    if is_prime(nb_teste):\n",
    "        nb_teste = nb_teste + 1\n",
    "        continue\n",
    "    \n",
    "    if teste_fermat(nb_teste, 2) and teste_fermat(nb_teste, 3) and teste_fermat(nb_teste, 4) and teste_fermat(nb_teste, 5):\n",
    "        print(\"Le plus petit composé qui passe le test de Fermat est {}.\".format(nb_teste))\n",
    "        break\n",
    "    else:\n",
    "        nb_teste = nb_teste + 1\n",
    "        continue"
   ]
  },
  {
   "cell_type": "markdown",
   "id": "unique-alarm",
   "metadata": {},
   "source": [
    "2. Test de Miller-Rabin"
   ]
  },
  {
   "cell_type": "code",
   "execution_count": 39,
   "id": "personalized-desert",
   "metadata": {},
   "outputs": [],
   "source": [
    "def temoin_de_miller(n, a):\n",
    "    s = 0\n",
    "    d = 1\n",
    "    facts = factor(n - 1)\n",
    "    if facts[0][0] == 2:\n",
    "        s = facts[0][1]\n",
    "        d = n // (2 ** s)\n",
    "    else:\n",
    "        d = n\n",
    "    x = a ** d % n\n",
    "    \n",
    "    if x == 1 or x == n - 1:\n",
    "        return False\n",
    "    for i in range(s-1):\n",
    "        x = x ** 2 % n\n",
    "        if x == n - 1:\n",
    "            return False\n",
    "    return True # n est composé\n",
    "    "
   ]
  },
  {
   "cell_type": "code",
   "execution_count": 8,
   "id": "impossible-genre",
   "metadata": {},
   "outputs": [],
   "source": [
    "nb_teste = 2\n",
    "while True:\n",
    "    \n",
    "    if is_prime(nb_teste):\n",
    "        nb_teste = nb_teste + 1\n",
    "        continue\n",
    "    \n",
    "    if temoin_de_miller(nb_teste, 2) or temoin_de_miller(nb_teste, 3) or temoin_de_miller(nb_teste, 4) or temoin_de_miller(nb_teste, 5):\n",
    "        nb_teste = nb_teste + 1\n",
    "        continue\n",
    "    else:\n",
    "        print(\"Le plus petit composé qui passe le test de Fermat est {}.\".format(nb_teste))\n",
    "        break\n",
    "        "
   ]
  },
  {
   "cell_type": "code",
   "execution_count": 9,
   "id": "color-separate",
   "metadata": {},
   "outputs": [
    {
     "data": {
      "text/plain": [
       "1539593"
      ]
     },
     "execution_count": 9,
     "metadata": {},
     "output_type": "execute_result"
    }
   ],
   "source": [
    "nb_teste"
   ]
  },
  {
   "cell_type": "markdown",
   "id": "accepting-optimum",
   "metadata": {},
   "source": [
    "on a testé tous les nombres inférieur que 1539593, il n'y a pas d'eurreur"
   ]
  }
 ],
 "metadata": {
  "kernelspec": {
   "display_name": "SageMath 9.8",
   "language": "sage",
   "name": "sagemath-9.8"
  },
  "language_info": {
   "codemirror_mode": {
    "name": "ipython",
    "version": 3
   },
   "file_extension": ".py",
   "mimetype": "text/x-python",
   "name": "python",
   "nbconvert_exporter": "python",
   "pygments_lexer": "ipython3",
   "version": "3.11.1"
  }
 },
 "nbformat": 4,
 "nbformat_minor": 5
}
