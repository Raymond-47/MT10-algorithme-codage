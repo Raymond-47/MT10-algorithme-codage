{
 "cells": [
  {
   "cell_type": "markdown",
   "id": "headed-wallet",
   "metadata": {},
   "source": [
    "# Construction de corps finis"
   ]
  },
  {
   "cell_type": "markdown",
   "id": "homeless-bradley",
   "metadata": {},
   "source": [
    "## Construction de corps finis"
   ]
  },
  {
   "cell_type": "markdown",
   "id": "effective-while",
   "metadata": {},
   "source": [
    "## Rudiments de *SageMath* pour les corps finis "
   ]
  },
  {
   "cell_type": "markdown",
   "id": "lonely-cruise",
   "metadata": {},
   "source": [
    "1. Les corps premiers $\\mathbb{F}_{p}$:"
   ]
  },
  {
   "cell_type": "code",
   "execution_count": 1,
   "id": "objective-earthquake",
   "metadata": {},
   "outputs": [
    {
     "data": {
      "text/plain": [
       "Finite Field of size 5"
      ]
     },
     "execution_count": 1,
     "metadata": {},
     "output_type": "execute_result"
    }
   ],
   "source": [
    "F5 = GF(5)\n",
    "F5"
   ]
  },
  {
   "cell_type": "markdown",
   "id": "executive-slope",
   "metadata": {},
   "source": [
    "2. Corps finis $\\mathbb{F}_{q}$ avec $q = p^{n}$"
   ]
  },
  {
   "cell_type": "code",
   "execution_count": 38,
   "id": "perfect-prison",
   "metadata": {},
   "outputs": [],
   "source": [
    "F125.<a> = GF(5 ** 3, name='a')"
   ]
  },
  {
   "cell_type": "code",
   "execution_count": 39,
   "id": "mineral-guatemala",
   "metadata": {},
   "outputs": [
    {
     "data": {
      "text/plain": [
       "x^3 + 3*x + 3"
      ]
     },
     "execution_count": 39,
     "metadata": {},
     "output_type": "execute_result"
    }
   ],
   "source": [
    "F125.modulus()"
   ]
  },
  {
   "cell_type": "markdown",
   "id": "gorgeous-crest",
   "metadata": {},
   "source": [
    "`Fq.<a> = GF(q, name='a')` avec $q = p^{n}$ \n",
    "\n",
    "L'argument `name='a'` est utilisé pour spécifier la représentation des éléments de ce corps fini. \n",
    "\n",
    "La syntaxe `Fq.<a>` est pour définir les générateurs de certains objets mathématiques.\n",
    "\n",
    "`Fq.modulus()` récupère le modulo de polynôme irréductible de degré n."
   ]
  },
  {
   "cell_type": "markdown",
   "id": "micro-conversion",
   "metadata": {},
   "source": [
    "3. $\\mathbb{F}_{p}[X]$ et les polynômes: `R.<X> = GF(p)[’X’]`"
   ]
  },
  {
   "cell_type": "code",
   "execution_count": 31,
   "id": "collaborative-modification",
   "metadata": {},
   "outputs": [],
   "source": [
    "R.<X> = GF(5)['X']"
   ]
  },
  {
   "cell_type": "markdown",
   "id": "sharp-richardson",
   "metadata": {},
   "source": [
    "`GF(5)['X']` est équivalant à `PolynomialRing(GF(5), 'X')`"
   ]
  },
  {
   "cell_type": "markdown",
   "id": "olympic-fancy",
   "metadata": {},
   "source": [
    "4. L'espace vectoriel $\\mathbb{F}_{p}^{k}$: `V = VectorSpace(Fp, k)`"
   ]
  },
  {
   "cell_type": "code",
   "execution_count": 40,
   "id": "unavailable-highlight",
   "metadata": {},
   "outputs": [
    {
     "data": {
      "text/plain": [
       "Vector space of dimension 3 over Finite Field in a of size 3^4"
      ]
     },
     "execution_count": 40,
     "metadata": {},
     "output_type": "execute_result"
    }
   ],
   "source": [
    "V = VectorSpace(F5, 3)\n",
    "V"
   ]
  },
  {
   "cell_type": "markdown",
   "id": "affiliated-energy",
   "metadata": {},
   "source": [
    "## Dénombrement des polynômes irréductibles et unitaires de $F_{p}[X]$"
   ]
  },
  {
   "cell_type": "markdown",
   "id": "qualified-freeze",
   "metadata": {},
   "source": [
    "### Factorisation de $X^{q} - X$ dans $F_{p}[X]$"
   ]
  },
  {
   "cell_type": "markdown",
   "id": "supreme-lighting",
   "metadata": {},
   "source": [
    "$X^{q} - X = \\underset{P \\in \\mathbb{F}_{p}[X] \\; \\land \\; irréductible, unitaire \\; \\land \\; deg(P) | n}{\\prod} P(X)$\n",
    "\n",
    "$q = p^{n}$"
   ]
  },
  {
   "cell_type": "markdown",
   "id": "insured-fishing",
   "metadata": {},
   "source": [
    "**Question 1:** vérifier cette factorisation avec $q = 2^{6}$"
   ]
  },
  {
   "cell_type": "code",
   "execution_count": 53,
   "id": "solid-refrigerator",
   "metadata": {},
   "outputs": [
    {
     "name": "stdout",
     "output_type": "stream",
     "text": [
      "(X, 1)\n",
      "(X + 1, 1)\n",
      "(X^2 + X + 1, 1)\n",
      "(X^3 + X + 1, 1)\n",
      "(X^3 + X^2 + 1, 1)\n",
      "(X^6 + X + 1, 1)\n",
      "(X^6 + X^3 + 1, 1)\n",
      "(X^6 + X^4 + X^2 + X + 1, 1)\n",
      "(X^6 + X^4 + X^3 + X + 1, 1)\n",
      "(X^6 + X^5 + 1, 1)\n",
      "(X^6 + X^5 + X^2 + X + 1, 1)\n",
      "(X^6 + X^5 + X^3 + X^2 + 1, 1)\n",
      "(X^6 + X^5 + X^4 + X + 1, 1)\n",
      "(X^6 + X^5 + X^4 + X^2 + 1, 1)\n"
     ]
    }
   ],
   "source": [
    "q = 2 ** 6\n",
    "F.<X> = GF(2)['X']\n",
    "P = X^q - X\n",
    "for facteur in P.factor():\n",
    "    print(facteur)"
   ]
  },
  {
   "cell_type": "markdown",
   "id": "located-lesson",
   "metadata": {},
   "source": [
    "On peut voir tous les facteurs sont éléments de $\\mathbb{F}_{p}[X]$, irréductible et unitaire, son degré divise 6."
   ]
  },
  {
   "cell_type": "markdown",
   "id": "broke-basketball",
   "metadata": {},
   "source": [
    "### La fonction de Möbius"
   ]
  },
  {
   "cell_type": "markdown",
   "id": "through-spirituality",
   "metadata": {},
   "source": [
    "**Question 2:** Vérifier pour les 100 permiers entiers naturels"
   ]
  },
  {
   "cell_type": "markdown",
   "id": "danish-politics",
   "metadata": {},
   "source": [
    "1. $\\mu (n) \\in \\{-1; 0; 1\\}$"
   ]
  },
  {
   "cell_type": "code",
   "execution_count": 60,
   "id": "unauthorized-province",
   "metadata": {},
   "outputs": [
    {
     "data": {
      "text/plain": [
       "{-1, 0, 1}"
      ]
     },
     "execution_count": 60,
     "metadata": {},
     "output_type": "execute_result"
    }
   ],
   "source": [
    "set([moebius(i + 1) for i in range(100)])"
   ]
  },
  {
   "cell_type": "markdown",
   "id": "massive-violence",
   "metadata": {},
   "source": [
    "2. la formule d'Euler "
   ]
  },
  {
   "cell_type": "markdown",
   "id": "informed-participant",
   "metadata": {},
   "source": [
    "$(\\forall n \\in \\mathbb{N} \\setminus \\{0\\}) \\; \\underset{d|n}{\\sum} \\mu(d) = \\begin{cases} 1 \\; si \\; n = 1 \\\\ 0 \\; si \\; n \\gt 1 \\end{cases}$"
   ]
  },
  {
   "cell_type": "markdown",
   "id": "supposed-premiere",
   "metadata": {},
   "source": [
    "Si $n = 1$, évidement, $\\mu(1) = 1$ "
   ]
  },
  {
   "cell_type": "markdown",
   "id": "together-meter",
   "metadata": {},
   "source": [
    "Si $n \\gt 1$, on peut trouver ci-dessous, toutes les valeurs de la formule d'Euler est 0."
   ]
  },
  {
   "cell_type": "code",
   "execution_count": 67,
   "id": "institutional-somewhere",
   "metadata": {},
   "outputs": [],
   "source": [
    "def FormuleEuler(n):\n",
    "    res = 0\n",
    "    for i in range(n):\n",
    "        if n % (i + 1) == 0:\n",
    "            res += moebius(i + 1)\n",
    "    return res"
   ]
  },
  {
   "cell_type": "code",
   "execution_count": 69,
   "id": "active-signal",
   "metadata": {},
   "outputs": [
    {
     "data": {
      "text/plain": [
       "{0}"
      ]
     },
     "execution_count": 69,
     "metadata": {},
     "output_type": "execute_result"
    }
   ],
   "source": [
    "set(FormuleEuler(i) for i in range(2, 101))"
   ]
  },
  {
   "cell_type": "markdown",
   "id": "measured-berkeley",
   "metadata": {},
   "source": [
    "3. la formule d'inversion de Möbius"
   ]
  },
  {
   "cell_type": "markdown",
   "id": "square-profession",
   "metadata": {},
   "source": [
    "Du coups, on a $F(n) = n $"
   ]
  },
  {
   "cell_type": "code",
   "execution_count": 31,
   "id": "behind-automation",
   "metadata": {},
   "outputs": [
    {
     "name": "stdout",
     "output_type": "stream",
     "text": [
      "phi_100 est correcte:  True\n"
     ]
    }
   ],
   "source": [
    "phi_100 = 0\n",
    "for (n, d) in enumerate(divisors(100)):\n",
    "    phi_100 += moebius(100 // d) * d\n",
    "print(\"phi_100 est correcte: \", phi_100 == euler_phi(100))"
   ]
  },
  {
   "cell_type": "markdown",
   "id": "civic-botswana",
   "metadata": {},
   "source": [
    "### Calcul du nombre de polynôles unitaires irréductibles"
   ]
  },
  {
   "cell_type": "markdown",
   "id": "extra-benchmark",
   "metadata": {},
   "source": [
    "**Question 3:** "
   ]
  },
  {
   "cell_type": "code",
   "execution_count": 75,
   "id": "gentle-attachment",
   "metadata": {},
   "outputs": [],
   "source": [
    "def Irr(p, n):\n",
    "    res = 0\n",
    "    for divisor in Integer(n).divisors():\n",
    "        res += moebius(n / divisor) * p ** divisor\n",
    "    res /= n\n",
    "    return res"
   ]
  },
  {
   "cell_type": "code",
   "execution_count": 76,
   "id": "boolean-insertion",
   "metadata": {},
   "outputs": [
    {
     "name": "stdout",
     "output_type": "stream",
     "text": [
      "[2, 1, 2, 3, 6, 9, 18, 30, 56, 99]\n",
      "[3, 3, 8, 18, 48, 116, 312, 810, 2184, 5880]\n",
      "[5, 10, 40, 150, 624, 2580, 11160, 48750, 217000, 976248]\n"
     ]
    }
   ],
   "source": [
    "for p in [2, 3, 5]:\n",
    "    print([Irr(p,n) for n in range(1, 11)])"
   ]
  },
  {
   "cell_type": "markdown",
   "id": "searching-hopkins",
   "metadata": {},
   "source": [
    "## Calcul de polynômes unitaire irréductibles"
   ]
  },
  {
   "cell_type": "markdown",
   "id": "indirect-million",
   "metadata": {},
   "source": [
    "**question 4:** Déterminer tous les polynômes irréductibles de $\\mathbb{F}_{2}[X]$ de degré inférieur ou égal à 10."
   ]
  },
  {
   "cell_type": "code",
   "execution_count": 78,
   "id": "helpful-venezuela",
   "metadata": {
    "collapsed": true,
    "jupyter": {
     "outputs_hidden": true
    },
    "tags": []
   },
   "outputs": [
    {
     "name": "stdout",
     "output_type": "stream",
     "text": [
      "X\n",
      "X + 1\n",
      "X^2 + X + 1\n",
      "X^3 + X + 1\n",
      "X^3 + X^2 + 1\n",
      "X^4 + X + 1\n",
      "X^4 + X^3 + 1\n",
      "X^4 + X^3 + X^2 + X + 1\n",
      "X^5 + X^2 + 1\n",
      "X^5 + X^3 + 1\n",
      "X^5 + X^3 + X^2 + X + 1\n",
      "X^5 + X^4 + X^2 + X + 1\n",
      "X^5 + X^4 + X^3 + X + 1\n",
      "X^5 + X^4 + X^3 + X^2 + 1\n",
      "X^6 + X + 1\n",
      "X^6 + X^3 + 1\n",
      "X^6 + X^4 + X^2 + X + 1\n",
      "X^6 + X^4 + X^3 + X + 1\n",
      "X^6 + X^5 + 1\n",
      "X^6 + X^5 + X^2 + X + 1\n",
      "X^6 + X^5 + X^3 + X^2 + 1\n",
      "X^6 + X^5 + X^4 + X + 1\n",
      "X^6 + X^5 + X^4 + X^2 + 1\n",
      "X^7 + X + 1\n",
      "X^7 + X^3 + 1\n",
      "X^7 + X^3 + X^2 + X + 1\n",
      "X^7 + X^4 + 1\n",
      "X^7 + X^4 + X^3 + X^2 + 1\n",
      "X^7 + X^5 + X^2 + X + 1\n",
      "X^7 + X^5 + X^3 + X + 1\n",
      "X^7 + X^5 + X^4 + X^3 + 1\n",
      "X^7 + X^5 + X^4 + X^3 + X^2 + X + 1\n",
      "X^7 + X^6 + 1\n",
      "X^7 + X^6 + X^3 + X + 1\n",
      "X^7 + X^6 + X^4 + X + 1\n",
      "X^7 + X^6 + X^4 + X^2 + 1\n",
      "X^7 + X^6 + X^5 + X^2 + 1\n",
      "X^7 + X^6 + X^5 + X^3 + X^2 + X + 1\n",
      "X^7 + X^6 + X^5 + X^4 + 1\n",
      "X^7 + X^6 + X^5 + X^4 + X^2 + X + 1\n",
      "X^7 + X^6 + X^5 + X^4 + X^3 + X^2 + 1\n",
      "X^8 + X^4 + X^3 + X + 1\n",
      "X^8 + X^4 + X^3 + X^2 + 1\n",
      "X^8 + X^5 + X^3 + X + 1\n",
      "X^8 + X^5 + X^3 + X^2 + 1\n",
      "X^8 + X^5 + X^4 + X^3 + 1\n",
      "X^8 + X^5 + X^4 + X^3 + X^2 + X + 1\n",
      "X^8 + X^6 + X^3 + X^2 + 1\n",
      "X^8 + X^6 + X^4 + X^3 + X^2 + X + 1\n",
      "X^8 + X^6 + X^5 + X + 1\n",
      "X^8 + X^6 + X^5 + X^2 + 1\n",
      "X^8 + X^6 + X^5 + X^3 + 1\n",
      "X^8 + X^6 + X^5 + X^4 + 1\n",
      "X^8 + X^6 + X^5 + X^4 + X^2 + X + 1\n",
      "X^8 + X^6 + X^5 + X^4 + X^3 + X + 1\n",
      "X^8 + X^7 + X^2 + X + 1\n",
      "X^8 + X^7 + X^3 + X + 1\n",
      "X^8 + X^7 + X^3 + X^2 + 1\n",
      "X^8 + X^7 + X^4 + X^3 + X^2 + X + 1\n",
      "X^8 + X^7 + X^5 + X + 1\n",
      "X^8 + X^7 + X^5 + X^3 + 1\n",
      "X^8 + X^7 + X^5 + X^4 + 1\n",
      "X^8 + X^7 + X^5 + X^4 + X^3 + X^2 + 1\n",
      "X^8 + X^7 + X^6 + X + 1\n",
      "X^8 + X^7 + X^6 + X^3 + X^2 + X + 1\n",
      "X^8 + X^7 + X^6 + X^4 + X^2 + X + 1\n",
      "X^8 + X^7 + X^6 + X^4 + X^3 + X^2 + 1\n",
      "X^8 + X^7 + X^6 + X^5 + X^2 + X + 1\n",
      "X^8 + X^7 + X^6 + X^5 + X^4 + X + 1\n",
      "X^8 + X^7 + X^6 + X^5 + X^4 + X^2 + 1\n",
      "X^8 + X^7 + X^6 + X^5 + X^4 + X^3 + 1\n",
      "X^9 + X + 1\n",
      "X^9 + X^4 + 1\n",
      "X^9 + X^4 + X^2 + X + 1\n",
      "X^9 + X^4 + X^3 + X + 1\n",
      "X^9 + X^5 + 1\n",
      "X^9 + X^5 + X^3 + X^2 + 1\n",
      "X^9 + X^5 + X^4 + X + 1\n",
      "X^9 + X^6 + X^3 + X + 1\n",
      "X^9 + X^6 + X^4 + X^3 + 1\n",
      "X^9 + X^6 + X^4 + X^3 + X^2 + X + 1\n",
      "X^9 + X^6 + X^5 + X^2 + 1\n",
      "X^9 + X^6 + X^5 + X^3 + 1\n",
      "X^9 + X^6 + X^5 + X^3 + X^2 + X + 1\n",
      "X^9 + X^6 + X^5 + X^4 + X^2 + X + 1\n",
      "X^9 + X^6 + X^5 + X^4 + X^3 + X^2 + 1\n",
      "X^9 + X^7 + X^2 + X + 1\n",
      "X^9 + X^7 + X^4 + X^2 + 1\n",
      "X^9 + X^7 + X^4 + X^3 + 1\n",
      "X^9 + X^7 + X^5 + X + 1\n",
      "X^9 + X^7 + X^5 + X^2 + 1\n",
      "X^9 + X^7 + X^5 + X^3 + X^2 + X + 1\n",
      "X^9 + X^7 + X^5 + X^4 + X^2 + X + 1\n",
      "X^9 + X^7 + X^5 + X^4 + X^3 + X^2 + 1\n",
      "X^9 + X^7 + X^6 + X^3 + X^2 + X + 1\n",
      "X^9 + X^7 + X^6 + X^4 + 1\n",
      "X^9 + X^7 + X^6 + X^4 + X^3 + X + 1\n",
      "X^9 + X^7 + X^6 + X^5 + X^4 + X^2 + 1\n",
      "X^9 + X^7 + X^6 + X^5 + X^4 + X^3 + 1\n",
      "X^9 + X^8 + 1\n",
      "X^9 + X^8 + X^4 + X + 1\n",
      "X^9 + X^8 + X^4 + X^2 + 1\n",
      "X^9 + X^8 + X^4 + X^3 + X^2 + X + 1\n",
      "X^9 + X^8 + X^5 + X + 1\n",
      "X^9 + X^8 + X^5 + X^4 + 1\n",
      "X^9 + X^8 + X^5 + X^4 + X^3 + X + 1\n",
      "X^9 + X^8 + X^6 + X^3 + 1\n",
      "X^9 + X^8 + X^6 + X^3 + X^2 + X + 1\n",
      "X^9 + X^8 + X^6 + X^4 + X^3 + X + 1\n",
      "X^9 + X^8 + X^6 + X^5 + 1\n",
      "X^9 + X^8 + X^6 + X^5 + X^3 + X + 1\n",
      "X^9 + X^8 + X^6 + X^5 + X^3 + X^2 + 1\n",
      "X^9 + X^8 + X^6 + X^5 + X^4 + X + 1\n",
      "X^9 + X^8 + X^6 + X^5 + X^4 + X^3 + X^2 + X + 1\n",
      "X^9 + X^8 + X^7 + X^2 + 1\n",
      "X^9 + X^8 + X^7 + X^3 + X^2 + X + 1\n",
      "X^9 + X^8 + X^7 + X^5 + 1\n",
      "X^9 + X^8 + X^7 + X^5 + X^4 + X^2 + 1\n",
      "X^9 + X^8 + X^7 + X^5 + X^4 + X^3 + 1\n",
      "X^9 + X^8 + X^7 + X^6 + X^2 + X + 1\n",
      "X^9 + X^8 + X^7 + X^6 + X^3 + X + 1\n",
      "X^9 + X^8 + X^7 + X^6 + X^3 + X^2 + 1\n",
      "X^9 + X^8 + X^7 + X^6 + X^4 + X^2 + 1\n",
      "X^9 + X^8 + X^7 + X^6 + X^4 + X^3 + 1\n",
      "X^9 + X^8 + X^7 + X^6 + X^5 + X + 1\n",
      "X^9 + X^8 + X^7 + X^6 + X^5 + X^3 + 1\n",
      "X^9 + X^8 + X^7 + X^6 + X^5 + X^4 + X^3 + X + 1\n",
      "X^10 + X^3 + 1\n",
      "X^10 + X^3 + X^2 + X + 1\n",
      "X^10 + X^4 + X^3 + X + 1\n",
      "X^10 + X^4 + X^3 + X^2 + 1\n",
      "X^10 + X^5 + X^2 + X + 1\n",
      "X^10 + X^5 + X^3 + X^2 + 1\n",
      "X^10 + X^5 + X^4 + X^2 + 1\n",
      "X^10 + X^6 + X^2 + X + 1\n",
      "X^10 + X^6 + X^4 + X + 1\n",
      "X^10 + X^6 + X^5 + X + 1\n",
      "X^10 + X^6 + X^5 + X^2 + 1\n",
      "X^10 + X^6 + X^5 + X^3 + X^2 + X + 1\n",
      "X^10 + X^7 + 1\n",
      "X^10 + X^7 + X^3 + X + 1\n",
      "X^10 + X^7 + X^4 + X^3 + 1\n",
      "X^10 + X^7 + X^5 + X^3 + 1\n",
      "X^10 + X^7 + X^5 + X^3 + X^2 + X + 1\n",
      "X^10 + X^7 + X^6 + X^2 + 1\n",
      "X^10 + X^7 + X^6 + X^3 + 1\n",
      "X^10 + X^7 + X^6 + X^4 + X^2 + X + 1\n",
      "X^10 + X^7 + X^6 + X^5 + X^2 + X + 1\n",
      "X^10 + X^7 + X^6 + X^5 + X^3 + X^2 + 1\n",
      "X^10 + X^7 + X^6 + X^5 + X^4 + X + 1\n",
      "X^10 + X^7 + X^6 + X^5 + X^4 + X^3 + X^2 + X + 1\n",
      "X^10 + X^8 + X^3 + X + 1\n",
      "X^10 + X^8 + X^3 + X^2 + 1\n",
      "X^10 + X^8 + X^4 + X^3 + 1\n",
      "X^10 + X^8 + X^4 + X^3 + X^2 + X + 1\n",
      "X^10 + X^8 + X^5 + X + 1\n",
      "X^10 + X^8 + X^5 + X^4 + 1\n",
      "X^10 + X^8 + X^5 + X^4 + X^3 + X^2 + 1\n",
      "X^10 + X^8 + X^6 + X + 1\n",
      "X^10 + X^8 + X^6 + X^4 + X^2 + X + 1\n",
      "X^10 + X^8 + X^6 + X^5 + 1\n",
      "X^10 + X^8 + X^6 + X^5 + X^2 + X + 1\n",
      "X^10 + X^8 + X^6 + X^5 + X^3 + X + 1\n",
      "X^10 + X^8 + X^7 + X^2 + 1\n",
      "X^10 + X^8 + X^7 + X^3 + X^2 + X + 1\n",
      "X^10 + X^8 + X^7 + X^4 + X^2 + X + 1\n",
      "X^10 + X^8 + X^7 + X^4 + X^3 + X + 1\n",
      "X^10 + X^8 + X^7 + X^5 + 1\n",
      "X^10 + X^8 + X^7 + X^5 + X^3 + X + 1\n",
      "X^10 + X^8 + X^7 + X^5 + X^4 + X^3 + 1\n",
      "X^10 + X^8 + X^7 + X^6 + 1\n",
      "X^10 + X^8 + X^7 + X^6 + X^2 + X + 1\n",
      "X^10 + X^8 + X^7 + X^6 + X^5 + X^2 + 1\n",
      "X^10 + X^8 + X^7 + X^6 + X^5 + X^4 + X^2 + X + 1\n",
      "X^10 + X^8 + X^7 + X^6 + X^5 + X^4 + X^3 + X + 1\n",
      "X^10 + X^9 + X^4 + X + 1\n",
      "X^10 + X^9 + X^4 + X^2 + 1\n",
      "X^10 + X^9 + X^5 + X + 1\n",
      "X^10 + X^9 + X^5 + X^2 + 1\n",
      "X^10 + X^9 + X^5 + X^4 + 1\n",
      "X^10 + X^9 + X^5 + X^4 + X^2 + X + 1\n",
      "X^10 + X^9 + X^6 + X + 1\n",
      "X^10 + X^9 + X^6 + X^3 + X^2 + X + 1\n",
      "X^10 + X^9 + X^6 + X^4 + 1\n",
      "X^10 + X^9 + X^6 + X^4 + X^3 + X + 1\n",
      "X^10 + X^9 + X^6 + X^5 + X^4 + X^3 + 1\n",
      "X^10 + X^9 + X^6 + X^5 + X^4 + X^3 + X^2 + X + 1\n",
      "X^10 + X^9 + X^7 + X^2 + 1\n",
      "X^10 + X^9 + X^7 + X^3 + 1\n",
      "X^10 + X^9 + X^7 + X^5 + X^2 + X + 1\n",
      "X^10 + X^9 + X^7 + X^5 + X^3 + X^2 + 1\n",
      "X^10 + X^9 + X^7 + X^5 + X^4 + X^2 + 1\n",
      "X^10 + X^9 + X^7 + X^5 + X^4 + X^3 + X^2 + X + 1\n",
      "X^10 + X^9 + X^7 + X^6 + 1\n",
      "X^10 + X^9 + X^7 + X^6 + X^3 + X^2 + 1\n",
      "X^10 + X^9 + X^7 + X^6 + X^4 + X + 1\n",
      "X^10 + X^9 + X^7 + X^6 + X^4 + X^3 + X^2 + X + 1\n",
      "X^10 + X^9 + X^7 + X^6 + X^5 + X^4 + X^2 + X + 1\n",
      "X^10 + X^9 + X^7 + X^6 + X^5 + X^4 + X^3 + X^2 + 1\n",
      "X^10 + X^9 + X^8 + X^3 + X^2 + X + 1\n",
      "X^10 + X^9 + X^8 + X^4 + 1\n",
      "X^10 + X^9 + X^8 + X^4 + X^2 + X + 1\n",
      "X^10 + X^9 + X^8 + X^4 + X^3 + X^2 + 1\n",
      "X^10 + X^9 + X^8 + X^5 + 1\n",
      "X^10 + X^9 + X^8 + X^5 + X^3 + X + 1\n",
      "X^10 + X^9 + X^8 + X^5 + X^4 + X^2 + 1\n",
      "X^10 + X^9 + X^8 + X^5 + X^4 + X^3 + 1\n",
      "X^10 + X^9 + X^8 + X^6 + X^2 + X + 1\n",
      "X^10 + X^9 + X^8 + X^6 + X^3 + X^2 + 1\n",
      "X^10 + X^9 + X^8 + X^6 + X^4 + X^2 + 1\n",
      "X^10 + X^9 + X^8 + X^6 + X^4 + X^3 + 1\n",
      "X^10 + X^9 + X^8 + X^6 + X^5 + X + 1\n",
      "X^10 + X^9 + X^8 + X^6 + X^5 + X^4 + X^3 + X + 1\n",
      "X^10 + X^9 + X^8 + X^6 + X^5 + X^4 + X^3 + X^2 + 1\n",
      "X^10 + X^9 + X^8 + X^7 + 1\n",
      "X^10 + X^9 + X^8 + X^7 + X^2 + X + 1\n",
      "X^10 + X^9 + X^8 + X^7 + X^3 + X^2 + 1\n",
      "X^10 + X^9 + X^8 + X^7 + X^4 + X + 1\n",
      "X^10 + X^9 + X^8 + X^7 + X^5 + X^3 + 1\n",
      "X^10 + X^9 + X^8 + X^7 + X^5 + X^4 + 1\n",
      "X^10 + X^9 + X^8 + X^7 + X^6 + X^2 + 1\n",
      "X^10 + X^9 + X^8 + X^7 + X^6 + X^4 + X^3 + X + 1\n",
      "X^10 + X^9 + X^8 + X^7 + X^6 + X^5 + X^3 + X + 1\n",
      "X^10 + X^9 + X^8 + X^7 + X^6 + X^5 + X^4 + X + 1\n",
      "X^10 + X^9 + X^8 + X^7 + X^6 + X^5 + X^4 + X^3 + 1\n",
      "X^10 + X^9 + X^8 + X^7 + X^6 + X^5 + X^4 + X^3 + X^2 + X + 1\n"
     ]
    }
   ],
   "source": [
    "F2.<X> = GF(2)['X']\n",
    "for degre in range(1, 11):\n",
    "    for polynome in F2.polynomials(degre):\n",
    "        if polynome.is_irreducible():\n",
    "            print(polynome)"
   ]
  },
  {
   "cell_type": "markdown",
   "id": "central-vertex",
   "metadata": {},
   "source": [
    "# Les codes de Reed et Solomon"
   ]
  },
  {
   "cell_type": "markdown",
   "id": "seventh-pension",
   "metadata": {},
   "source": [
    "## Définition des codes de Reed-Solomon généralisés (GRS)"
   ]
  },
  {
   "cell_type": "markdown",
   "id": "quarterly-lecture",
   "metadata": {},
   "source": [
    "**Question 5:** "
   ]
  },
  {
   "cell_type": "code",
   "execution_count": 62,
   "id": "african-update",
   "metadata": {},
   "outputs": [],
   "source": [
    "def CodeGRS(x, v, alphas, q):\n",
    "    # q := nombre de alphabet\n",
    "    # n := len(v) := len(alphas)\n",
    "    # nombre de alphabet est normalement 2 ** 8 (nombre de ASCII)\n",
    "    \n",
    "    global F_alphabet_n\n",
    "    global Func_F_alphabet\n",
    "    func = Func_F_alphabet.zero()\n",
    "    y = []\n",
    "    \n",
    "    # former la fonction du mot\n",
    "    for (i, coef) in enumerate(x):\n",
    "        func += list(F_alphabet_n)[ord(coef)] * X ** i\n",
    "       \n",
    "    # calculer le code\n",
    "    for (i, vi) in enumerate(v):\n",
    "        y.append(func(alphas[i]) * vi)\n",
    "        \n",
    "    return y"
   ]
  },
  {
   "cell_type": "markdown",
   "id": "established-packaging",
   "metadata": {},
   "source": [
    "## Cas sans erruer: Décodage des GRS par interpolation de Lagrange"
   ]
  },
  {
   "cell_type": "markdown",
   "id": "fantastic-attendance",
   "metadata": {},
   "source": [
    "**Question 6:**"
   ]
  },
  {
   "cell_type": "code",
   "execution_count": 63,
   "id": "delayed-array",
   "metadata": {},
   "outputs": [],
   "source": [
    "def LagrangePolynome(alphas, q, i):\n",
    "\n",
    "    global F_alphabet_n\n",
    "    global Func_F_alphabet\n",
    "    LiX = Func_F_alphabet.one()\n",
    "    \n",
    "    for (ind, alpha_ind) in enumerate(alphas):\n",
    "        if ind == i:\n",
    "            continue\n",
    "        else:\n",
    "            LiX *= X - alpha_ind\n",
    "            \n",
    "    return LiX"
   ]
  },
  {
   "cell_type": "code",
   "execution_count": 64,
   "id": "renewable-april",
   "metadata": {},
   "outputs": [],
   "source": [
    "def DecodeGRS(y, v, alphas, q):\n",
    "\n",
    "    point_fonc = []\n",
    "\n",
    "    for (i, vf_a) in enumerate(y):\n",
    "        # vf_a := v_i * f(a_i)\n",
    "        # print(vf_a, v[i], vf_a / v[i])\n",
    "        point_fonc.append(vf_a / v[i])\n",
    "    \n",
    "    global F_alphabet_n\n",
    "    global Func_F_alphabet\n",
    "    func = Func_F_alphabet.zero()\n",
    "    \n",
    "    # calculer le polynome initial\n",
    "    for (i, f_alpha) in enumerate(point_fonc):\n",
    "        Li = LagrangePolynome(alphas, q, i)\n",
    "\n",
    "        func += f_alpha * (Li(alphas[i]) ** (-1)) * Li\n",
    "    \n",
    "    # récupérer le coefficient \n",
    "    x = []\n",
    "    for i in range(func.degree() + 1):\n",
    "        # coef de X ** i\n",
    "        x.append(func // X ** i % X)\n",
    "    return list(map(lambda e: chr(list(F_alphabet_n).index(e)), x))\n",
    "    "
   ]
  },
  {
   "cell_type": "code",
   "execution_count": 71,
   "id": "intermediate-console",
   "metadata": {},
   "outputs": [
    {
     "name": "stdout",
     "output_type": "stream",
     "text": [
      "zukkuan\n"
     ]
    }
   ],
   "source": [
    "# test de codage et décodage\n",
    "n = 15\n",
    "mot_init = \"zukkuan\"\n",
    "k = len(mot_init) # len(mot_init)\n",
    "alphas = [1, 2, 3, 5, 10, 50, 60, 80, 120, 250, 21, 31, 41, 51, 61]\n",
    "v = [150, 75, 25, 20, 15, 3, 1, 10, 13, 17, 19, 23, 29, 31, 37]\n",
    "q = 2 ** 8\n",
    "\n",
    "F_alphabet_n = GF(q, 'a')\n",
    "Func_F_alphabet.<X> = F_alphabet_n['X']\n",
    "\n",
    "alphas = list(map(lambda e: list(F_alphabet_n)[e], alphas))\n",
    "v = list(map(lambda e: list(F_alphabet_n)[e], v))\n",
    "mot_code = CodeGRS(x = mot_init, v = v, alphas = alphas, q = q)\n",
    "mot_restauration = DecodeGRS(y = mot_code, v = v, alphas = alphas, q = q)\n",
    "print(\"\".join(mot_restauration))"
   ]
  },
  {
   "cell_type": "markdown",
   "id": "little-collaboration",
   "metadata": {},
   "source": [
    "S'il existe $i \\neq j$, mais $\\alpha_{i} = \\alpha_{j}$, le polynôme de Lagrange $L_{i}(\\alpha_{j})$ et $L_{j}(\\alpha_{i})$ sont équaux à 0. On ne peut pas récupérer le polynôme original avec l'interpolation de Lagrange."
   ]
  },
  {
   "cell_type": "markdown",
   "id": "liable-amplifier",
   "metadata": {},
   "source": [
    "## Simulation d'erreurs de transmission"
   ]
  },
  {
   "cell_type": "markdown",
   "id": "animal-testing",
   "metadata": {},
   "source": [
    "**Question 7:** "
   ]
  },
  {
   "cell_type": "code",
   "execution_count": 73,
   "id": "closing-workshop",
   "metadata": {},
   "outputs": [],
   "source": [
    "def errTrans(y, nb_err, q):\n",
    "    # F_alphabet_n.<X> = GF(q)['X']\n",
    "    global F_alphabet_n\n",
    "    y_prime = y.copy()\n",
    "    for i in range(nb_err):\n",
    "        y_prime[randint(0, len(y_prime) - 1)] = F_alphabet_n(randint(0, next_prime(2 ** 8)))\n",
    "    return y_prime"
   ]
  },
  {
   "cell_type": "markdown",
   "id": "quantitative-trance",
   "metadata": {},
   "source": [
    "**Question 8:**"
   ]
  },
  {
   "cell_type": "code",
   "execution_count": 74,
   "id": "smart-cosmetic",
   "metadata": {},
   "outputs": [],
   "source": [
    "nb_err = 2\n",
    "mot_code_erreur = errTrans(mot_code, nb_err = nb_err, q = q)\n",
    "mot_restauration_erreur = DecodeGRS(y = mot_code_erreur, v = v, alphas = alphas, q = q)\n",
    "print(\"\".join(mot_restauration_erreur))"
   ]
  },
  {
   "cell_type": "markdown",
   "id": "structured-oxford",
   "metadata": {},
   "source": [
    "Mot incorrecte."
   ]
  },
  {
   "cell_type": "markdown",
   "id": "developmental-pharmacology",
   "metadata": {},
   "source": [
    "# Correction d'erreurs grâce aux GRS"
   ]
  },
  {
   "cell_type": "markdown",
   "id": "compatible-console",
   "metadata": {},
   "source": [
    "## Le polynôme syndrome"
   ]
  },
  {
   "cell_type": "markdown",
   "id": "official-charlotte",
   "metadata": {},
   "source": [
    "**Question 9:**"
   ]
  },
  {
   "cell_type": "code",
   "execution_count": 75,
   "id": "effective-covering",
   "metadata": {},
   "outputs": [],
   "source": [
    "def Syndrome(y_prime, alphas, v, q, r):\n",
    "    # F_alphabet_n.<X> = GF(q)['X']\n",
    "    global F_alphabet_n\n",
    "    func_syndrome = F_alphabet_n['X'].zero()\n",
    "    \n",
    "    for (i, yi) in enumerate(y_prime):\n",
    "        func_reste = F_alphabet_n['X'].zero()\n",
    "        \n",
    "        for j in range(r):\n",
    "            func_reste += (F_alphabet_n(alphas[i]) * X) ** j\n",
    "            \n",
    "        Li = LagrangePolynome(alphas, q, i)\n",
    "        func_syndrome += yi * ((F_alphabet_n(v[i]) ** (-1)) * (Li(alphas[i]) ** (-1))) * func_reste\n",
    "    \n",
    "    return func_syndrome.numerator()"
   ]
  },
  {
   "cell_type": "markdown",
   "id": "elder-delaware",
   "metadata": {},
   "source": [
    "**Question 10:**"
   ]
  },
  {
   "cell_type": "code",
   "execution_count": 76,
   "id": "spread-ensemble",
   "metadata": {},
   "outputs": [
    {
     "data": {
      "text/plain": [
       "0"
      ]
     },
     "execution_count": 76,
     "metadata": {},
     "output_type": "execute_result"
    }
   ],
   "source": [
    "syndrome_code = Syndrome(mot_code, alphas, v, q, n - k)\n",
    "syndrome_code"
   ]
  },
  {
   "cell_type": "code",
   "execution_count": 77,
   "id": "decimal-sociology",
   "metadata": {},
   "outputs": [
    {
     "data": {
      "text/plain": [
       "(a^4 + 1)*X^7 + (a^6 + a^3 + a)*X^6 + (a^2 + a)*X^5 + (a^7 + a^3 + 1)*X^4 + (a^7 + a^6 + a^5)*X^3 + (a^7 + a^5 + a^3 + a^2 + a)*X^2 + (a^7 + a^6 + a^4 + a^3 + a^2)*X + a^7 + a^5 + a^4 + a^3 + a + 1"
      ]
     },
     "execution_count": 77,
     "metadata": {},
     "output_type": "execute_result"
    }
   ],
   "source": [
    "syndrome_code_erreur = Syndrome(mot_code_erreur, alphas, v, q, n - k)\n",
    "syndrome_code_erreur"
   ]
  },
  {
   "cell_type": "markdown",
   "id": "toxic-beverage",
   "metadata": {},
   "source": [
    "Cela verifier $y' \\in C \\iff S(X) = 0$"
   ]
  },
  {
   "cell_type": "markdown",
   "id": "defined-coordination",
   "metadata": {},
   "source": [
    "## L'équation clef"
   ]
  },
  {
   "cell_type": "markdown",
   "id": "dominican-symbol",
   "metadata": {},
   "source": [
    "**Question 11:**"
   ]
  },
  {
   "cell_type": "code",
   "execution_count": 78,
   "id": "convenient-rolling",
   "metadata": {},
   "outputs": [],
   "source": [
    "def Clef(syndrome, q, r):\n",
    "    if syndrome == 0:\n",
    "        return\n",
    "    \n",
    "    global F_alphabet_n\n",
    "    \n",
    "    lst_r = [F_alphabet_n(1) * X ** r, syndrome]\n",
    "    lst_u = [1, 0]\n",
    "    lst_v = [0, 1]\n",
    "    lst_q = [0]\n",
    "    j = 1\n",
    "    \n",
    "    while(lst_r[j].degree() >= r/2):\n",
    "        lst_q.append(lst_r[j - 1] // lst_r[j])\n",
    "        lst_r.append(lst_r[j - 1] % lst_r[j])\n",
    "        lst_u.append(lst_u[j - 1] - lst_u[j] * lst_q[j])\n",
    "        lst_v.append(lst_v[j - 1] - lst_v[j] * lst_q[j])\n",
    "        j += 1\n",
    "        \n",
    "    sigma_tilde = lst_v[j]\n",
    "    omega_tilde = lst_r[j]\n",
    "\n",
    "    # sigma localisateur \n",
    "    localisateur = ((sigma_tilde(0)) ** (-1)) * sigma_tilde\n",
    "    \n",
    "    # omega évaluateur\n",
    "    evaluateur = ((sigma_tilde(0)) ** (-1)) * omega_tilde\n",
    "    \n",
    "    return (localisateur, evaluateur)"
   ]
  },
  {
   "cell_type": "code",
   "execution_count": 79,
   "id": "expensive-analysis",
   "metadata": {},
   "outputs": [
    {
     "name": "stdout",
     "output_type": "stream",
     "text": [
      "((a^7 + a^6 + a^5 + a^2 + a + 1)*X^2 + (a^7 + a^6 + a^5 + a^4 + a^3 + a^2 + a + 1)*X + 1, (a^7 + a^6 + a^4 + a^2)*X + a^7 + a^5 + a^4 + a^3 + a + 1)\n"
     ]
    }
   ],
   "source": [
    "(locali, evalu) = Clef(syndrome_code_erreur, q, n - k)\n",
    "print((locali, evalu))"
   ]
  },
  {
   "cell_type": "markdown",
   "id": "iraqi-barrier",
   "metadata": {},
   "source": [
    "## Localisation et évaluation des erreurs de transmission"
   ]
  },
  {
   "cell_type": "markdown",
   "id": "western-reason",
   "metadata": {},
   "source": [
    "**Question 12:**"
   ]
  },
  {
   "cell_type": "code",
   "execution_count": 98,
   "id": "finnish-circle",
   "metadata": {},
   "outputs": [],
   "source": [
    "def Erreur(localisateur, evaluateur, alphas, v):\n",
    "    B = []\n",
    "    n = len(alphas)\n",
    "    \n",
    "    F_alphabet_n.<X> = GF(q)['X']\n",
    "    \n",
    "    for (i, alpha) in enumerate(alphas):\n",
    "        if localisateur(alpha ** (-1)) == 0 :\n",
    "            B.append(i)\n",
    "    \n",
    "    lst_derivation_sigma = [0] * n\n",
    "    lst_e = [0] * n\n",
    "    for ind_b in B:\n",
    "        d_sigma = 1\n",
    "        alpha_b = alphas[ind_b]\n",
    "        for ind_b_prime in B:\n",
    "            if ind_b_prime == ind_b:\n",
    "                continue\n",
    "            else:\n",
    "                d_sigma *= 1 - alphas[ind_b_prime] * alpha_b ** (-1)\n",
    "        lst_derivation_sigma[ind_b] = - alpha_b * d_sigma\n",
    "        \n",
    "    for ind_b in B:\n",
    "        Li = LagrangePolynome(alphas, q, ind_b)\n",
    "        u_b = (v[ind_b] ** (-1)) * (Li(alphas[ind_b]) ** (-1))\n",
    "        lst_e[ind_b] = (-1) * alphas[ind_b] * evaluateur(alphas[ind_b] ** (-1)) * (u_b * lst_derivation_sigma[ind_b]) ** (-1)\n",
    "        \n",
    "    return lst_e"
   ]
  },
  {
   "cell_type": "code",
   "execution_count": 99,
   "id": "incoming-volunteer",
   "metadata": {},
   "outputs": [
    {
     "data": {
      "text/plain": [
       "[a^5 + a^2 + a + 1, 0, 0, 0, 0, 0, 0, a^6, 0, 0, 0, 0, 0, 0, 0]"
      ]
     },
     "execution_count": 99,
     "metadata": {},
     "output_type": "execute_result"
    }
   ],
   "source": [
    "Erreur(locali, evalu, alphas, v)"
   ]
  },
  {
   "cell_type": "code",
   "execution_count": 100,
   "id": "narrow-vulnerability",
   "metadata": {},
   "outputs": [
    {
     "data": {
      "text/plain": [
       "True"
      ]
     },
     "execution_count": 100,
     "metadata": {},
     "output_type": "execute_result"
    }
   ],
   "source": [
    "list(map(lambda a, b: a + b, mot_code, Erreur(locali, evalu, alphas, v))) == mot_code_erreur"
   ]
  },
  {
   "cell_type": "markdown",
   "id": "competent-training",
   "metadata": {},
   "source": [
    "# Conclution"
   ]
  },
  {
   "cell_type": "markdown",
   "id": "productive-giving",
   "metadata": {},
   "source": [
    "**Question 13:**"
   ]
  },
  {
   "cell_type": "code",
   "execution_count": 3,
   "id": "cognitive-cyprus",
   "metadata": {},
   "outputs": [],
   "source": [
    "import random\n",
    "from sage.crypto.util import bin_to_ascii"
   ]
  },
  {
   "cell_type": "code",
   "execution_count": 4,
   "id": "french-service",
   "metadata": {},
   "outputs": [],
   "source": [
    "def chiffrerRSA(lst_msg, cle_prive):\n",
    "    (d, N) = cle_prive\n",
    "    return list(map(power_mod, lst_msg, [d] * len(lst_msg), [N] * len(lst_msg)))"
   ]
  },
  {
   "cell_type": "code",
   "execution_count": 5,
   "id": "imposed-macedonia",
   "metadata": {},
   "outputs": [],
   "source": [
    "def dechiffrerRSA(lst_msg, cle_publique):\n",
    "    return chiffrerRSA(lst_msg, cle_publique)"
   ]
  },
  {
   "cell_type": "code",
   "execution_count": 6,
   "id": "danish-range",
   "metadata": {},
   "outputs": [],
   "source": [
    "def cleRSA(m):\n",
    "    p = random_prime(2^2048, false, 10^m)\n",
    "    q = random_prime(2^2048, false, 10^m)\n",
    "    N = p * q\n",
    "    phi_N = (p - 1) * (q - 1)\n",
    "    e = random.randint(2^16, N)\n",
    "    while gcd(e, phi_N) != 1:\n",
    "        e = random.randint(2^16, N)\n",
    "    d = mod(xgcd(e, phi_N)[1], phi_N)\n",
    "    return N, e, d"
   ]
  },
  {
   "cell_type": "code",
   "execution_count": 7,
   "id": "confirmed-endorsement",
   "metadata": {},
   "outputs": [],
   "source": [
    "def alphabetise(lst_entier, N):\n",
    "    msg = \"\"\n",
    "    nb_bits = int(log(N + 2, 2))\n",
    "    for ent in lst_entier:\n",
    "        msg = msg + format(ent, \"0{}b\".format(nb_bits))\n",
    "    while msg[0]==\"0\":\n",
    "        msg = msg[1:]\n",
    "    nb_zero_ajouter = (8 - (len(msg) % 8)) % 8\n",
    "    msg = \"0\" * nb_zero_ajouter + msg\n",
    "    msg_alpha = bin_to_ascii(msg)\n",
    "    return msg_alpha"
   ]
  },
  {
   "cell_type": "code",
   "execution_count": 134,
   "id": "adverse-gambling",
   "metadata": {},
   "outputs": [],
   "source": [
    "def numerise(message, N):\n",
    "    # rentrer une liste des chiffres ≤ N\n",
    "    lst_entier = []\n",
    "    msg_binaire = BinaryStrings().encoding(message)\n",
    "    nb_binaire = len(msg_binaire)\n",
    "    nb_bits = int(log(N + 2, 2))\n",
    "    nb_paquet = ceil(nb_binaire / nb_bits)\n",
    "    nb_zero_ajouter = nb_paquet * nb_bits - nb_binaire\n",
    "    msg_binaire = \"0\" * nb_zero_ajouter + str(msg_binaire)\n",
    "    for i in range(nb_paquet):\n",
    "        msg_binaire_morceau = msg_binaire[i * nb_bits: (i + 1) * nb_bits]\n",
    "        lst_entier.append(int(str(msg_binaire_morceau),2))\n",
    "    return lst_entier"
   ]
  },
  {
   "cell_type": "code",
   "execution_count": 250,
   "id": "surgical-credits",
   "metadata": {},
   "outputs": [],
   "source": [
    "def Coder_GRS_Chiffre(lst_msg_encrypte):\n",
    "    # entré: liste des entiers (msg après RSA) taille normalement ne plus que 2 ** 12\n",
    "    # sortie: liste des listes des points v * f(alphas)\n",
    "    global F_alphabet_n\n",
    "    global Func_F_alphabet\n",
    "    # k := taille d'élément dans la liste\n",
    "    k = 2 ** 6\n",
    "    n = 2 ** 7\n",
    "    q = 2 ** 8\n",
    "    alphas = [int(i + 1) for i in range(n)]\n",
    "    v = [5] * n\n",
    "    alphas = list(map(lambda e: list(F_alphabet_n)[e], alphas))\n",
    "    v = list(map(lambda e: list(F_alphabet_n)[e], v))\n",
    "    # 有问题！！！\n",
    "    lst_encrypte = [Changer_Binaire_Char(Changer_Entier_Binaire(msg_encrypte)) for msg_encrypte in lst_msg_encrypte]\n",
    "    # lst_encrypte := lst des caractères codé par ASCII taille 2 ** 9\n",
    "    lst_code = []\n",
    "    # lst_code := liste des listes de f(alphas) taille (2 ** 3) * (2 ** 7)\n",
    "    for phrase_encrypte in lst_encrypte:\n",
    "        phrase_rsa = []\n",
    "        for j in range(0, len(phrase_encrypte), k):\n",
    "            phrase_rsa.append(CodeGRS(x = phrase_encrypte[j: j + k], v = v, alphas = alphas, q = q))\n",
    "        lst_code.append(phrase_rsa)\n",
    "        \n",
    "    # lst_code = [CodeGRS(x = mot_init, v = v, alphas = alphas, q = q) for mot_init in lst_encrypte]\n",
    "\n",
    "    return lst_code"
   ]
  },
  {
   "cell_type": "code",
   "execution_count": 147,
   "id": "located-integration",
   "metadata": {},
   "outputs": [],
   "source": [
    "def Changer_Entier_Binaire(e):\n",
    "    # entré: entier\n",
    "    # sortie: binaire\n",
    "    return bin(e)[2:]"
   ]
  },
  {
   "cell_type": "code",
   "execution_count": 148,
   "id": "raised-crown",
   "metadata": {},
   "outputs": [],
   "source": [
    "def Changer_Binaire_Char(b):\n",
    "    # entré: binaire\n",
    "    # sortie: caractère ASCII\n",
    "    \n",
    "    return ''.join([chr(int(b[i:i+8], 2)) for i in range(0, len(b), 8)])"
   ]
  },
  {
   "cell_type": "code",
   "execution_count": 300,
   "id": "tracked-camcorder",
   "metadata": {},
   "outputs": [],
   "source": [
    "def Decoder_GRS_Chiffre(lst_code_encrypte):\n",
    "    global F_alphabet_n\n",
    "    global Func_F_alphabet\n",
    "    # k := taille d'élément dans la liste\n",
    "    k = 2 ** 6\n",
    "    n = 2 ** 7\n",
    "    q = 2 ** 8\n",
    "    alphas = [int(i + 1) for i in range(n)]\n",
    "    v = [5] * n\n",
    "    alphas = list(map(lambda e: list(F_alphabet_n)[e], alphas))\n",
    "    v = list(map(lambda e: list(F_alphabet_n)[e], v))\n",
    "    \n",
    "    lst_code_encrypte_correcte = []\n",
    "    \n",
    "    for phrase_code in lst_code_encrypte:\n",
    "        phrase_code_correcte = [] \n",
    "\n",
    "        for morceau_code in phrase_code:\n",
    "            \n",
    "            phrase_code_correcte.append(Corriger_code_erreur(morceau_code, alphas, v, q, n - k))\n",
    "        \n",
    "        lst_code_encrypte_correcte.append(phrase_code_correcte)\n",
    "    \n",
    "    lst_mot_encrypte = []\n",
    "    # lst_code_encrypte_correcte = [Corriger_code_erreur(msg_encrypte, alphas, v, q, n - k) for msg_encrypte in lst_code_encrypte]\n",
    "    for phrase_code_correcte in lst_code_encrypte_correcte:\n",
    "        phrase_binaire_encrypte = []\n",
    "        for morceau_code_encrypte in phrase_code_correcte:\n",
    "            lst_caracs_ascii = DecodeGRS(morceau_code_encrypte, v, alphas, q)\n",
    "            binaire_encrypte = ascii_to_binary(lst_caracs_ascii)\n",
    "            phrase_binaire_encrypte.append(binaire_encrypte)\n",
    "\n",
    "        lst_mot_encrypte.append(\"\".join(phrase_binaire_encrypte))\n",
    "    \n",
    "    print(len(lst_mot_encrypte))\n",
    "    print(lst_mot_encrypte)\n",
    "    lst_entier_encrypte = list(map(lambda b:int(b, 2), lst_mot_encrypte))\n",
    "    print(lst_entier_encrypte)\n",
    "    print(len(lst_entier_encrypte))\n",
    "    # lst_mot_encrypte = [DecodeGRS(code_encrypte, v, alphas, q) for code_encrypte in lst_code_encrypte_correcte]\n",
    "    \n",
    "    return lst_entier_encrypte"
   ]
  },
  {
   "cell_type": "code",
   "execution_count": 304,
   "id": "atomic-stopping",
   "metadata": {},
   "outputs": [
    {
     "name": "stdout",
     "output_type": "stream",
     "text": [
      "2\n",
      "['1110111001111111110010100000000101111010110000110111100000111111000011001010111011111010101111000000101010011100101100011101101011001000011110100000010110101011101101001010000110100101011110011111100000101011011110001111101001011110000101011011011100011100111101101001010101111000110001010001000100111101010000110010010001101000110001000100101100110101001000110011001111011001001000011111001101011100100111000100000100101001110101111100101110011001000011010111010100011000110101010001111100101101010111111000100000010001011100000110110101011010000101000000110001100101001110000000010101111001001011111110111000001011010101100100100000001010101110110001001100100100010010001000001100100111110101111000111110001000110010011000011001010110110011110010010001100011011101011101001110100010000110101010100010101100100010111000111101000101000101111100010110110110011110001000100111000110010111000011101001011111111010100010010001000111001110111000110001111100101101110100101000101001111100000111001001101000100011111010110111110011100001001001001101010010010001001001101011011001001110101110001001001001111011010110100010100010000111100100001001101111010100011000001101100111010100000011001000000101001111101100011111001011010010100110000010111000011101010000110011100000011010110101010001000001111100001100111101111111000001110010001000101110010000110100001001100100110111010011100010110100011000110111111111011011110001011011101000011101000100010010011010011010111101011010100100000100010000010010110100010101010000111100001101110100110100111010000111000100001100101010011001101001000000011100110111110011111011101011110000010100100011100001100010110101100001111001010110110011101000001100001000010000011010010110111011001100001110011001000111001111000101110100110110011011111100101101111110000100011110011101100000001011001001010111111111001001100011100110110110000000010111110000111111101100101111001010000100100001101010010101100000000101110111010111011111100101010111010100010011010101010011100100001101001010111000001110101011110000100010110010011000011101001010000011000100000111010101000000000000000100000111101000101001100001011010110011111101100100000100011101101101011100111100011010001110100010101011110101110110110110110010110111001000100000100110111110100110111101110010001000010111000100101111111111101001010010101001101111101110111111011001010000011001111100000000111100110001101111000101111001100101010011111101111000111000111100011001011111011010011000011011110110110111000100011100010111100001110010101000101010110010000000101000101000000101101100110010001000100001111111101101111010010001010100000100011000101110000111010110111011010011110101100010110011101010001110111000101101110100001100110010111100010100000111110101100100010010101011111010111010100111110001000110000010000001111001100100101000100110111111101110000110000011111111111111001101111110100011110000100100010101000010011010001001011000010110110110011000101110111001100100111111000110001100000011001001110011110100010000011100111111110011011101010001110000011110101101010000010110100101010100011110110111110110101111011000101001010001011000101111100110001110011110001111001111011100101101011010101001101111011101010111101001100110011000111110000010000011111001001110000110100001100010100110101011111001001101001011000100111001110101110011000100011100010110110011011011100000101100000000011010101111111000010000010010011000110101111001010101110101001011110011101010000010001111000011101110001111000010000111110111000001000001010110011000110101000000100001111010110101101000010000001011101000101001110101011111101111010011100100110100001101111000100010111101100100000001100110101100110110100011110110010111010111100000110101100010100110011110100010101100110010110110100010010011101001100000011011100000101010011101101011010110010001011111011011001001011101000011011110001010010111110001000001101011000001110101110011011000000001110111111110110100010100101100101011111100111101011011001010100100001111010111100110001101101010111100110011001111000110010110010010001101101011100000101000101010101100010110011100101100000010', '1010001111100010011100001100101110111111000100000011100000001110001010000100010010000100011111000110110011101001110111010100111101011111110010111100100101001111010000110111000001101101111011111110100111011000101010011100110011110110001101100000000001101000000001010001000101011001000000000101010001101100011001000110111011000111010101110011000110011101000001110001110010110001110111000010001111000011000100111010001100010100010101101000010101100010111110011011110101011100111101000001000001110110000110001110110100011010100101010111000010101111110101000111111100000010000011000011110110000111010101001111110001110000100100011101100011011001110101111011010101101010111001111100011011100110110000000110010101111001110010101001100100010001111111001100011101110011010010000000111010011101110010101010000111001101110001100101111101101001001001000000010111000111110010111100001110001110110111010000100001011100011001111100010101101001110101001001101111110100011010100111100100001010010111101111010011100100100101001001111100011000011100010000010010001101010110101011000110101010001001100010111101000111101101110110011111100000111011000001110101110100100001011000011011101001001110011011011001110001101011110001111011101111110110111110111101011001001111000100101110111111000011010100101001111010011111101111001001011000111010010011111001011110011010100101000010011100010010001001001110101100100011100111011010010100011010101111110001111101101111010000011010001101010101010111100001010010001111000110111001010010101111110110100111100100110001001101101000010010110111111111011010011111101110100010111000100110100100110011000011000110110111101001001101011110111000111010110100010010001001000100011001101011000000010110100010100110101001011001101111110010110100001110111111011000110001001100110001000110000010101110000001011110101110110000111001100100101010000000110010001101110101110011111001010101011101101011100010100111101101011000001101000111010001100001110000010110001101001111100000110010111111101000110110001000111111011010100011100000110000101000110010001100100101010001011010110111111000111001010000011011001110101000100100110010000010001000111001001010100101001000001011001011001011000111000010010110011010000101101111011011110011110000000100011111010000010100011101001000010000000010001001111010110100011111100010001101110011010101010011101001101110101101111101011110010110000111010100000001111010110001101000010110000110011110001001010010011100000111110011000100000100100111111010111110100101111100001110100011001110000111000100001011011000111101110101110010001011010001010111101010001000001101100101001111100111111100011111110111110110001110101011010001100111110011111101101011001100001000100101000111010010000111100101011100011111001110010001011010000111010010010110100111110000001000100101000000011010111101110100101011011101000001111000001011110100001110011010010010011001111100110110101011101101110010011100110101000001000011110011011010100100000111001110011101111101010010001111001101110000111110010010111000011100111001010010111100110111110011000000110101100011111010110001010100000000111100011111001000011010011111001000100001001010000111011001101000000111101100001110000110000010010101111110000101000100110001100011100100111110000001000011100001010011101011101111111100000111110000101110110111011011110010111000011001010010100010110000010001111100000101111010010011101000010011111100100111110110110111111100111101011011010110110001100110110100010111111000010111100000110111110011011000011110000011101101111101000100001101010000011100001100001110011111011110000100110110000100011100010010110100110011110110000100101110000110110100110110011000101001010110001000101111111101011011111100011111111001111111011111010011100110010001000111001000010010111111111101000010100110111000101001101111110111110011000110110111101001001101111110100000111000100011000101000001010101010011001001111101000010001100100010011000101110101101110110100110100100010111001010001010110111110010010100111101010100111010010000010001110111011111111111110001000111100010000001000110101011100110111110001111101100000001']\n",
      "[972991749059447628621889193785758699265221659960296776303705385597718920204597330470964444114292834971389742648964378974927636779847755031244214709697449248920584800018098153563796235609584263190139786555395258602313525527729609193995219132363426480117292747016683173391102667810374051659874355812505199478554739246989933576695392576944209504537080208776287016737684804747135124298404395187347264598314772756752269319398798324889292854875127242208975551209432024941618193046593574504706163314565421908341402108178374551803655055118563759409183686114728850005552532851116563634806024949173343378144637487294685538591869103091619829228876360754265841259495018148927160135353908522611414235210880467232559092319998913517389720113185645373349554341088944152169575848249438086785012929455922583810093937087757085848479716397986329090603840807720372888005247301913040503292111829924666538806371464556120302013871331742802576568358582293801432727125304771145872422280555172340903348643827945169624743819758424548875269934801231824072868888750234473184046605013009036453306738241751745567730109752190505021525297749407710893326948592100303403837028655242923487581788793521272822258409186225998869071438130770517868451213554560214040728685314, 668590565458176441678590051701161712887045661534758670198619313906159312817769267683621849195914015973261080188695772763818535753447337428731379897200063087922127884909451765192843430316307100973303072821541736614007284775184507959457818000184228680481356014046493123899923311769639348167323318044958776152038504869582390858690054166060014030248688409497613820801421011016760443067243411003170976676022996403192589292073004194965279746122330103339425318980081333338576473942319277275980088701332572568265721964962864266580121928804324096391962289960393049303965302829338439672531492359054302997219619013297792103569264216077810389426146260378457333811851127823095909770546419939704287135146719329394683609457570763548245500185201161977661598081247121851461480420993738584533859121833311368372560093336068844986622377381821152464726774603860997527000832318915433936297898796944401425567389648996530421644878203089725785121570322147170513786078210019960311663974090197232501302809383001818753201706279961781637667241149839907962404527204431528137129139805036923525871463721847883631752922514859667423291011997735284365986221361362242709229150135388491476288970931119446641446624238337727707210538047813174425784827169814821505104149249]\n",
      "2\n"
     ]
    }
   ],
   "source": [
    "lst_msg_encrypte_recu = Decoder_GRS_Chiffre(lst_code_encrpyte)"
   ]
  },
  {
   "cell_type": "code",
   "execution_count": 293,
   "id": "collect-coverage",
   "metadata": {},
   "outputs": [
    {
     "data": {
      "text/plain": [
       "1"
      ]
     },
     "execution_count": 293,
     "metadata": {},
     "output_type": "execute_result"
    }
   ],
   "source": [
    "len(lst_msg_encrypte_recu)"
   ]
  },
  {
   "cell_type": "code",
   "execution_count": 277,
   "id": "broad-fisher",
   "metadata": {},
   "outputs": [],
   "source": [
    "def Corriger_code_erreur(mot_code_erreur, alphas, v, q, r):\n",
    "    syndrome_code_erreur = Syndrome(mot_code_erreur, alphas, v, q, r)\n",
    "    if syndrome_code_erreur == 0:\n",
    "        return mot_code_erreur\n",
    "    print(len(mot_code_erreur), len(alphas), q, r)\n",
    "    print(mot_code_erreur)\n",
    "    (locali, evalu) = Clef(syndrome_code_erreur, q, r)\n",
    "    print('locali:', locali)\n",
    "    return list(map(lambda a, b: a - b, mot_code_erreur, Erreur(locali, evalu, alphas, v))) "
   ]
  },
  {
   "cell_type": "code",
   "execution_count": 237,
   "id": "editorial-panic",
   "metadata": {},
   "outputs": [],
   "source": [
    "def ascii_to_binary(ascii_list):\n",
    "    binary_list = []\n",
    "    for character in ascii_list:\n",
    "        binary_character = format(ord(character), '08b')\n",
    "        binary_list.append(binary_character)\n",
    "    return \"\".join(binary_list)"
   ]
  },
  {
   "cell_type": "code",
   "execution_count": 251,
   "id": "touched-healing",
   "metadata": {
    "tags": []
   },
   "outputs": [],
   "source": [
    "(RSA_N,RSA_e,RSA_d) = cleRSA(30)\n",
    "msg_original = \"SageMath calcule exactement dans des entiers de taille arbitrairement grande. Outre + et *, on utilisera aussi la division euclidienne (divmod), l’algorithme d’Euclide (gcd) et l’algorithme d’Euclide étendu (xgcd).Le théorème fondamental de l’arithmétique affirme que tout nombre entier s’écrit comme produit de nombres premiers et qu’une telle écriture est unique à l’ordre des facteurs près. Les nombres premiers sont ainsi les notes de la musique des nombres. SageMath possède quelques commandes très utiles pour travailler avec les nombres premiers : is_prime, prime_range, next_prime, factor, prime_pi.\"\n",
    "lst_msg_original = numerise(msg_original,RSA_N)\n",
    "lst_msg_encrypte = chiffrerRSA(lst_msg_original, (RSA_e, RSA_N))"
   ]
  },
  {
   "cell_type": "code",
   "execution_count": 302,
   "id": "dramatic-nurse",
   "metadata": {},
   "outputs": [
    {
     "data": {
      "text/plain": [
       "[15202996079053869197217018652902479676019088436879637129745396649964358128196833288608819439285825546427964728890068421483244324685121172363190854839022644514384137500282783649434316181399754112345934164928050915661148836370775143656175298943178538751832699172135674584235979184537094557185536809570393741852417800734217712135865509014753273508391878262129484636526325074173986317162568674802301009348668324324254208115606223826395200857423863159515242987647375389712784266353024601636033801790084717317834407940287102371932110236227558740768495095542638281336758325798696306793844139830833490283509960738979461540497954735806559831701193136785403769679609658576986877114904820665803347425170007300508735817499983023709214376768525708958586786579514752377649622628897470106015827022748790372032717766996204466382495568718536392040685012620630826375081989092391257863939247342572914668849554133689379718966739558481290258880602848340647386361332887049154256598133674567826614822559811643275386622183725383576176092731269247251138576386722413643500728203328266194582917785027371024495782964877976640961332777334495482708233571751567240684953572738170679493465449898769887847787643534781232329241220793289341694550211790003344386385710,\n",
       " 20893455170568013802455939115661303527720176922961208443706853559567478525555289615113182787372312999164408755896742898869329242295229294647855621787501971497566496403420367662276357197384596905415721025673179269187727649224515873733056812505757146265042375438952910121872603492801229630228853688904961754751203277174449714334064192689375438445271512796800431900044406594273763845851356593849093021125718637599768415377281381092664992066322815729357041218127541666830514810697477414874377771916642892758303811405089508330628810275135128012248821561262282790748915713416826239766609136220446968663113094165556003236539506752431574669567070636826791681620347744471747180329575623115758972973334979043583862795549086360882671880787536311801924940038972557858171263156054330766683097557290980261642502916752151405831949293181911014522711706370656172718776009966107310509309337404512544548980926531141575676402443846553930785049072567099078555814944063123759739499190318663515665712793218806836037553321248805676177101285932497123825141475138485254285285618907403860183483241307746363492278828589364606977844124929227636437069417542570084663410941730890358634030341597482707545207007448053990850329313994161700805775849056713172034504665]"
      ]
     },
     "execution_count": 302,
     "metadata": {},
     "output_type": "execute_result"
    }
   ],
   "source": [
    "lst_msg_encrypte"
   ]
  },
  {
   "cell_type": "code",
   "execution_count": 288,
   "id": "honest-traveler",
   "metadata": {},
   "outputs": [
    {
     "data": {
      "text/plain": [
       "4092"
      ]
     },
     "execution_count": 288,
     "metadata": {},
     "output_type": "execute_result"
    }
   ],
   "source": [
    "len(bin(lst_msg_encrypte[0]))"
   ]
  },
  {
   "cell_type": "code",
   "execution_count": 303,
   "id": "foster-authentication",
   "metadata": {},
   "outputs": [],
   "source": [
    "lst_code_encrpyte = Coder_GRS_Chiffre(lst_msg_encrypte)"
   ]
  },
  {
   "cell_type": "code",
   "execution_count": 249,
   "id": "photographic-shaft",
   "metadata": {},
   "outputs": [
    {
     "data": {
      "text/plain": [
       "128"
      ]
     },
     "execution_count": 249,
     "metadata": {},
     "output_type": "execute_result"
    }
   ],
   "source": [
    "len(lst_code_encrpyte[0][0])"
   ]
  },
  {
   "cell_type": "code",
   "execution_count": 241,
   "id": "ruled-fruit",
   "metadata": {},
   "outputs": [
    {
     "ename": "TypeError",
     "evalue": "'sage.rings.integer.Integer' object is not iterable",
     "output_type": "error",
     "traceback": [
      "\u001b[0;31m---------------------------------------------------------------------------\u001b[0m",
      "\u001b[0;31mTypeError\u001b[0m                                 Traceback (most recent call last)",
      "Cell \u001b[0;32mIn [241], line 1\u001b[0m\n\u001b[0;32m----> 1\u001b[0m lst_msg_encrypte_recu \u001b[38;5;241m=\u001b[39m \u001b[43mDecoder_GRS_Chiffre\u001b[49m\u001b[43m(\u001b[49m\u001b[43mlst_code_encrpyte\u001b[49m\u001b[43m)\u001b[49m\n",
      "Cell \u001b[0;32mIn [240], line 17\u001b[0m, in \u001b[0;36mDecoder_GRS_Chiffre\u001b[0;34m(lst_code_encrypte)\u001b[0m\n\u001b[1;32m     15\u001b[0m \u001b[38;5;28;01mfor\u001b[39;00m phrase_code \u001b[38;5;129;01min\u001b[39;00m lst_msg_encrypte:\n\u001b[1;32m     16\u001b[0m     phrase_code_correcte \u001b[38;5;241m=\u001b[39m [] \n\u001b[0;32m---> 17\u001b[0m     \u001b[38;5;28;01mfor\u001b[39;00m morceau_code \u001b[38;5;129;01min\u001b[39;00m phrase_code:\n\u001b[1;32m     18\u001b[0m         phrase_code_correcte\u001b[38;5;241m.\u001b[39mappend(Corriger_code_erreur(msg_encrypte, alphas, v, q, n \u001b[38;5;241m-\u001b[39m k))\n\u001b[1;32m     20\u001b[0m     lst_code_encrypte_correcte\u001b[38;5;241m.\u001b[39mappend(phrase_code_correcte)\n",
      "\u001b[0;31mTypeError\u001b[0m: 'sage.rings.integer.Integer' object is not iterable"
     ]
    }
   ],
   "source": [
    "lst_msg_encrypte_recu = Decoder_GRS_Chiffre(lst_code_encrpyte)"
   ]
  },
  {
   "cell_type": "code",
   "execution_count": 215,
   "id": "naked-satisfaction",
   "metadata": {},
   "outputs": [
    {
     "data": {
      "text/plain": [
       "128"
      ]
     },
     "execution_count": 215,
     "metadata": {},
     "output_type": "execute_result"
    }
   ],
   "source": [
    "len(lst_code_encrpyte[0])"
   ]
  },
  {
   "cell_type": "code",
   "execution_count": 212,
   "id": "endangered-rally",
   "metadata": {},
   "outputs": [
    {
     "data": {
      "text/plain": [
       "1"
      ]
     },
     "execution_count": 212,
     "metadata": {},
     "output_type": "execute_result"
    }
   ],
   "source": [
    "len(lst_msg_encrypte_recu[0][0])"
   ]
  },
  {
   "cell_type": "code",
   "execution_count": 201,
   "id": "respected-salon",
   "metadata": {
    "tags": []
   },
   "outputs": [],
   "source": [
    "x = lst_msg_encrypte_recu[0]"
   ]
  },
  {
   "cell_type": "code",
   "execution_count": 203,
   "id": "interesting-checklist",
   "metadata": {},
   "outputs": [],
   "source": [
    "y = \"\".join(x)"
   ]
  },
  {
   "cell_type": "code",
   "execution_count": null,
   "id": "compact-desperate",
   "metadata": {},
   "outputs": [],
   "source": []
  },
  {
   "cell_type": "code",
   "execution_count": 210,
   "id": "gothic-generator",
   "metadata": {},
   "outputs": [
    {
     "data": {
      "text/plain": [
       "97410377221667381853153537327058721028560726912069743156176907762529487212302810001711687068305032935069030966254967743465463788647498907137315117144807286201695413084574442674168222921917159476027535055082630241148672079925358934017269925684462137101725083146776090574638624812567704887892553501757267943655"
      ]
     },
     "execution_count": 210,
     "metadata": {},
     "output_type": "execute_result"
    }
   ],
   "source": [
    "int(string_to_binary(y),2)"
   ]
  },
  {
   "cell_type": "code",
   "execution_count": null,
   "id": "armed-fifth",
   "metadata": {},
   "outputs": [],
   "source": []
  },
  {
   "cell_type": "code",
   "execution_count": 205,
   "id": "dimensional-second",
   "metadata": {},
   "outputs": [],
   "source": [
    "def string_to_binary(s):\n",
    "    return ''.join(format(ord(c), '08b') for c in s)"
   ]
  },
  {
   "cell_type": "code",
   "execution_count": 182,
   "id": "respiratory-momentum",
   "metadata": {},
   "outputs": [
    {
     "data": {
      "text/plain": [
       "'\\x8a'"
      ]
     },
     "execution_count": 182,
     "metadata": {},
     "output_type": "execute_result"
    }
   ],
   "source": [
    "s = lst_msg_encrypte_recu[0][0]\n",
    "s"
   ]
  },
  {
   "cell_type": "code",
   "execution_count": null,
   "id": "running-determination",
   "metadata": {},
   "outputs": [],
   "source": []
  }
 ],
 "metadata": {
  "kernelspec": {
   "display_name": "SageMath 9.8",
   "language": "sage",
   "name": "sagemath-9.8"
  },
  "language_info": {
   "codemirror_mode": {
    "name": "ipython",
    "version": 3
   },
   "file_extension": ".py",
   "mimetype": "text/x-python",
   "name": "python",
   "nbconvert_exporter": "python",
   "pygments_lexer": "ipython3",
   "version": "3.11.1"
  }
 },
 "nbformat": 4,
 "nbformat_minor": 5
}
